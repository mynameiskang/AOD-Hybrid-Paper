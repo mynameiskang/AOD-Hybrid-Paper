{
 "cells": [
  {
   "cell_type": "code",
   "execution_count": 1,
   "metadata": {},
   "outputs": [],
   "source": [
    "import pandas as pd\n",
    "import numpy as np\n",
    "import matplotlib.pyplot as plt\n",
    "\n",
    "import pickle\n",
    "\n",
    "import warnings\n",
    "warnings.filterwarnings('ignore')\n",
    "\n",
    "import math"
   ]
  },
  {
   "cell_type": "code",
   "execution_count": 2,
   "metadata": {},
   "outputs": [],
   "source": [
    "plt.rc('text', usetex=True)  \n",
    "plt.rc('font', family='sans-serif')"
   ]
  },
  {
   "cell_type": "code",
   "execution_count": 3,
   "metadata": {},
   "outputs": [],
   "source": [
    "results = pickle.load(open(\"./final_results.pkl\", \"rb\"))"
   ]
  },
  {
   "cell_type": "code",
   "execution_count": 4,
   "metadata": {},
   "outputs": [],
   "source": [
    "results['Deep Learning']['Bi-Directional LSTM'] = results['Deep Learning']['BiDirectional LSTM']\n",
    "del results['Deep Learning']['BiDirectional LSTM']\n",
    "\n",
    "results['Deep Learning']['LSTM Auto-Encoder'] = results['Deep Learning']['LSTM AutoEncoder']\n",
    "del results['Deep Learning']['LSTM AutoEncoder']"
   ]
  },
  {
   "cell_type": "code",
   "execution_count": 5,
   "metadata": {},
   "outputs": [],
   "source": [
    "from sklearn.metrics import mean_absolute_error, mean_squared_error, mean_squared_log_error, median_absolute_error, mean_absolute_percentage_error"
   ]
  },
  {
   "cell_type": "code",
   "execution_count": 6,
   "metadata": {},
   "outputs": [],
   "source": [
    "scores = {}"
   ]
  },
  {
   "cell_type": "code",
   "execution_count": 7,
   "metadata": {},
   "outputs": [],
   "source": [
    "approaches = list(results.keys())\n",
    "\n",
    "for approach in approaches:\n",
    "    scores[approach] = {}\n",
    "\n",
    "    methods = list(results[approach].keys())\n",
    "    \n",
    "    for method in methods:\n",
    "\n",
    "        y_hat = results[approach][method]['y_pred']\n",
    "        y_test = results[approach][method]['y_test']\n",
    "\n",
    "        rmse    = np.sqrt(mean_squared_error(y_test, y_hat))\n",
    "        mae     = mean_absolute_error(y_test, y_hat)\n",
    "        msle    = mean_squared_log_error(y_test, y_hat)\n",
    "        mdabse   = median_absolute_error(y_test, y_hat)\n",
    "        mape    = mean_absolute_percentage_error(y_test, y_hat)\n",
    "\n",
    "        scores[approach][method] = {\n",
    "            \"MAE\": mae,\n",
    "            \"RMSE\": rmse,\n",
    "            \"MSLE\": msle,\n",
    "            \"MdAbsE\": mdabse,\n",
    "#             \"MAPE\": mape\n",
    "        }"
   ]
  },
  {
   "cell_type": "code",
   "execution_count": 8,
   "metadata": {},
   "outputs": [],
   "source": [
    "reform = {(outerKey, innerKey): values for outerKey, innerDict in scores.items() for innerKey, values in innerDict.items()}\n",
    "\n",
    "result_df = pd.DataFrame(reform).transpose().round(3)"
   ]
  },
  {
   "cell_type": "code",
   "execution_count": 9,
   "metadata": {},
   "outputs": [
    {
     "data": {
      "text/html": [
       "<div>\n",
       "<style scoped>\n",
       "    .dataframe tbody tr th:only-of-type {\n",
       "        vertical-align: middle;\n",
       "    }\n",
       "\n",
       "    .dataframe tbody tr th {\n",
       "        vertical-align: top;\n",
       "    }\n",
       "\n",
       "    .dataframe thead th {\n",
       "        text-align: right;\n",
       "    }\n",
       "</style>\n",
       "<table border=\"1\" class=\"dataframe\">\n",
       "  <thead>\n",
       "    <tr style=\"text-align: right;\">\n",
       "      <th></th>\n",
       "      <th></th>\n",
       "      <th>MAE</th>\n",
       "      <th>RMSE</th>\n",
       "      <th>MSLE</th>\n",
       "      <th>MdAbsE</th>\n",
       "    </tr>\n",
       "  </thead>\n",
       "  <tbody>\n",
       "    <tr>\n",
       "      <th rowspan=\"5\" valign=\"top\">Machine Learning</th>\n",
       "      <th>SVR Regression</th>\n",
       "      <td>27.998</td>\n",
       "      <td>37.641</td>\n",
       "      <td>0.139</td>\n",
       "      <td>18.464</td>\n",
       "    </tr>\n",
       "    <tr>\n",
       "      <th>Linear Regression</th>\n",
       "      <td>28.001</td>\n",
       "      <td>37.650</td>\n",
       "      <td>0.139</td>\n",
       "      <td>18.466</td>\n",
       "    </tr>\n",
       "    <tr>\n",
       "      <th>Random Forest Regression</th>\n",
       "      <td>27.993</td>\n",
       "      <td>37.633</td>\n",
       "      <td>0.139</td>\n",
       "      <td>18.458</td>\n",
       "    </tr>\n",
       "    <tr>\n",
       "      <th>Polynomial Regression</th>\n",
       "      <td>27.998</td>\n",
       "      <td>37.644</td>\n",
       "      <td>0.139</td>\n",
       "      <td>18.472</td>\n",
       "    </tr>\n",
       "    <tr>\n",
       "      <th>Decision Tree Regression</th>\n",
       "      <td>27.994</td>\n",
       "      <td>37.639</td>\n",
       "      <td>0.139</td>\n",
       "      <td>18.458</td>\n",
       "    </tr>\n",
       "    <tr>\n",
       "      <th rowspan=\"3\" valign=\"top\">Deep Learning</th>\n",
       "      <th>Multi Layer Perceptron</th>\n",
       "      <td>28.010</td>\n",
       "      <td>37.657</td>\n",
       "      <td>0.139</td>\n",
       "      <td>18.472</td>\n",
       "    </tr>\n",
       "    <tr>\n",
       "      <th>Bi-Directional LSTM</th>\n",
       "      <td>27.993</td>\n",
       "      <td>37.634</td>\n",
       "      <td>0.139</td>\n",
       "      <td>18.458</td>\n",
       "    </tr>\n",
       "    <tr>\n",
       "      <th>LSTM Auto-Encoder</th>\n",
       "      <td>27.994</td>\n",
       "      <td>37.636</td>\n",
       "      <td>0.139</td>\n",
       "      <td>18.462</td>\n",
       "    </tr>\n",
       "    <tr>\n",
       "      <th rowspan=\"3\" valign=\"top\">Statistical</th>\n",
       "      <th>AR</th>\n",
       "      <td>27.998</td>\n",
       "      <td>37.645</td>\n",
       "      <td>0.139</td>\n",
       "      <td>18.466</td>\n",
       "    </tr>\n",
       "    <tr>\n",
       "      <th>Holt-Winters</th>\n",
       "      <td>27.999</td>\n",
       "      <td>37.645</td>\n",
       "      <td>0.139</td>\n",
       "      <td>18.466</td>\n",
       "    </tr>\n",
       "    <tr>\n",
       "      <th>ARIMA</th>\n",
       "      <td>28.001</td>\n",
       "      <td>37.648</td>\n",
       "      <td>0.139</td>\n",
       "      <td>18.466</td>\n",
       "    </tr>\n",
       "  </tbody>\n",
       "</table>\n",
       "</div>"
      ],
      "text/plain": [
       "                                              MAE    RMSE   MSLE  MdAbsE\n",
       "Machine Learning SVR Regression            27.998  37.641  0.139  18.464\n",
       "                 Linear Regression         28.001  37.650  0.139  18.466\n",
       "                 Random Forest Regression  27.993  37.633  0.139  18.458\n",
       "                 Polynomial Regression     27.998  37.644  0.139  18.472\n",
       "                 Decision Tree Regression  27.994  37.639  0.139  18.458\n",
       "Deep Learning    Multi Layer Perceptron    28.010  37.657  0.139  18.472\n",
       "                 Bi-Directional LSTM       27.993  37.634  0.139  18.458\n",
       "                 LSTM Auto-Encoder         27.994  37.636  0.139  18.462\n",
       "Statistical      AR                        27.998  37.645  0.139  18.466\n",
       "                 Holt-Winters              27.999  37.645  0.139  18.466\n",
       "                 ARIMA                     28.001  37.648  0.139  18.466"
      ]
     },
     "execution_count": 9,
     "metadata": {},
     "output_type": "execute_result"
    }
   ],
   "source": [
    "result_df"
   ]
  },
  {
   "cell_type": "code",
   "execution_count": 10,
   "metadata": {},
   "outputs": [
    {
     "name": "stdout",
     "output_type": "stream",
     "text": [
      "\\begin{tabular}{llrrrr}\n",
      "\\toprule\n",
      "            &       &     MAE &    RMSE &   MSLE &  MdAbsE \\\\\n",
      "\\midrule\n",
      "Machine Learning & SVR Regression &  27.998 &  37.641 &  0.139 &  18.464 \\\\\n",
      "            & Linear Regression &  28.001 &  37.650 &  0.139 &  18.466 \\\\\n",
      "            & Random Forest Regression &  27.993 &  37.633 &  0.139 &  18.458 \\\\\n",
      "            & Polynomial Regression &  27.998 &  37.644 &  0.139 &  18.472 \\\\\n",
      "            & Decision Tree Regression &  27.994 &  37.639 &  0.139 &  18.458 \\\\\n",
      "Deep Learning & Multi Layer Perceptron &  28.010 &  37.657 &  0.139 &  18.472 \\\\\n",
      "            & Bi-Directional LSTM &  27.993 &  37.634 &  0.139 &  18.458 \\\\\n",
      "            & LSTM Auto-Encoder &  27.994 &  37.636 &  0.139 &  18.462 \\\\\n",
      "Statistical & AR &  27.998 &  37.645 &  0.139 &  18.466 \\\\\n",
      "            & Holt-Winters &  27.999 &  37.645 &  0.139 &  18.466 \\\\\n",
      "            & ARIMA &  28.001 &  37.648 &  0.139 &  18.466 \\\\\n",
      "\\bottomrule\n",
      "\\end{tabular}\n",
      "\n"
     ]
    }
   ],
   "source": [
    "print(result_df.to_latex())"
   ]
  }
 ],
 "metadata": {
  "kernelspec": {
   "display_name": "Python 3",
   "language": "python",
   "name": "python3"
  },
  "language_info": {
   "codemirror_mode": {
    "name": "ipython",
    "version": 3
   },
   "file_extension": ".py",
   "mimetype": "text/x-python",
   "name": "python",
   "nbconvert_exporter": "python",
   "pygments_lexer": "ipython3",
   "version": "3.8.5"
  }
 },
 "nbformat": 4,
 "nbformat_minor": 4
}
