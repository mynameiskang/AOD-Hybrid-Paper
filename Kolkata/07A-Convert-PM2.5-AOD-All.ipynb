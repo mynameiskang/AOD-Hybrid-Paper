{
 "cells": [
  {
   "cell_type": "code",
   "execution_count": 1,
   "metadata": {},
   "outputs": [],
   "source": [
    "import pandas as pd\n",
    "import numpy as np\n",
    "import matplotlib.pyplot as plt\n",
    "\n",
    "import warnings\n",
    "warnings.filterwarnings('ignore')\n",
    "\n",
    "import pickle"
   ]
  },
  {
   "cell_type": "code",
   "execution_count": 2,
   "metadata": {},
   "outputs": [
    {
     "data": {
      "text/plain": [
       "['./config.ini']"
      ]
     },
     "execution_count": 2,
     "metadata": {},
     "output_type": "execute_result"
    }
   ],
   "source": [
    "import configparser\n",
    "\n",
    "config = configparser.ConfigParser()\n",
    "config.read(\"./config.ini\")"
   ]
  },
  {
   "cell_type": "code",
   "execution_count": 3,
   "metadata": {},
   "outputs": [],
   "source": [
    "pm25_to_aod_model_obj = pickle.load(open(config['convert'][\"pm25_aod\"], \"rb\"))\n",
    "model_pkl = pm25_to_aod_model_obj\n",
    "regressor = model_pkl['regressor']\n",
    "scaler = model_pkl['scaler']\n",
    "\n",
    "def model_predict(X):    \n",
    "    if scaler:\n",
    "        try:\n",
    "            sc_X, sc_y = scaler\n",
    "            y_pred = sc_y.inverse_transform(regressor.predict(sc_X.transform(X)))\n",
    "        except Exception as e:\n",
    "            poly_reg = scaler\n",
    "            y_pred = regressor.predict(poly_reg.transform(X))\n",
    "    else:\n",
    "        y_pred = regressor.predict(X)\n",
    "    return y_pred"
   ]
  },
  {
   "cell_type": "code",
   "execution_count": 4,
   "metadata": {},
   "outputs": [],
   "source": [
    "def plot_graph(pkl_obj, pm25_predictions, aod_predictions):\n",
    "    fig = plt.figure(figsize=(6, 4))\n",
    "    \n",
    "    plt.scatter(pm25_predictions, aod_predictions, c='k')\n",
    "    plt.title(f\"{pkl_obj['station_id']} - AOD vs PM2.5\")\n",
    "    plt.xlabel(\"PM2.5\")\n",
    "    plt.ylabel(\"AOD\")\n",
    "    plt.grid(ls='--')\n",
    "    plt.close()\n",
    "    \n",
    "#     plt.show()\n",
    "    \n",
    "    return fig.gca()"
   ]
  },
  {
   "cell_type": "code",
   "execution_count": 5,
   "metadata": {},
   "outputs": [],
   "source": [
    "import multiprocessing as mp\n",
    "\n",
    "manager = mp.Manager()\n",
    "ax_list = manager.list()\n",
    "\n",
    "def perform_task(path):\n",
    "    pkl_obj = pickle.load(open(path, \"rb\"))\n",
    "    pm25_predictions = pkl_obj['test_set_predictions']\n",
    "\n",
    "    aod_predictions = model_predict(pm25_predictions.reshape(-1,1)).reshape(-1)\n",
    "    ax = plot_graph(pkl_obj, pm25_predictions, aod_predictions);\n",
    "    \n",
    "    pickle.dump(aod_predictions, open(f\"{path[:-15]}/{pkl_obj['station_id']}_aod.pkl\", \"wb\"))\n",
    "\n",
    "    ax_list.append(ax)"
   ]
  },
  {
   "cell_type": "code",
   "execution_count": 6,
   "metadata": {},
   "outputs": [],
   "source": [
    "import glob\n",
    "\n",
    "directory = \"ml_models\"\n",
    "\n",
    "pool = mp.Pool(mp.cpu_count())\n",
    "pool.map(perform_task, [path for path in glob.glob(f\"./{directory}/*/*_pm25.pkl\")])\n",
    "pool.close()\n",
    "\n",
    "for ax in ax_list:\n",
    "    plt.show()"
   ]
  },
  {
   "cell_type": "code",
   "execution_count": 7,
   "metadata": {},
   "outputs": [],
   "source": [
    "import glob\n",
    "\n",
    "directory = \"stat_models\"\n",
    "\n",
    "pool = mp.Pool(mp.cpu_count())\n",
    "pool.map(perform_task, [path for path in glob.glob(f\"./{directory}/*/*_pm25.pkl\")])\n",
    "pool.close()\n",
    "\n",
    "for ax in ax_list:\n",
    "    plt.show()"
   ]
  },
  {
   "cell_type": "code",
   "execution_count": 8,
   "metadata": {},
   "outputs": [],
   "source": [
    "import glob\n",
    "\n",
    "directory = \"dl_models\"\n",
    "\n",
    "pool = mp.Pool(mp.cpu_count())\n",
    "pool.map(perform_task, [path for path in glob.glob(f\"./{directory}/*/*_pm25.pkl\")])\n",
    "pool.close()\n",
    "\n",
    "for ax in ax_list:\n",
    "    plt.show()"
   ]
  }
 ],
 "metadata": {
  "kernelspec": {
   "display_name": "Python 3",
   "language": "python",
   "name": "python3"
  },
  "language_info": {
   "codemirror_mode": {
    "name": "ipython",
    "version": 3
   },
   "file_extension": ".py",
   "mimetype": "text/x-python",
   "name": "python",
   "nbconvert_exporter": "python",
   "pygments_lexer": "ipython3",
   "version": "3.8.5"
  }
 },
 "nbformat": 4,
 "nbformat_minor": 4
}
