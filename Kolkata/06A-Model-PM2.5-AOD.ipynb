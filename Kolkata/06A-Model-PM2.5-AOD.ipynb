{
 "cells": [
  {
   "cell_type": "code",
   "execution_count": 1,
   "metadata": {},
   "outputs": [],
   "source": [
    "import pandas as pd\n",
    "import numpy as np\n",
    "\n",
    "import pickle\n",
    "import glob\n",
    "\n",
    "import warnings\n",
    "warnings.filterwarnings('ignore')"
   ]
  },
  {
   "cell_type": "code",
   "execution_count": 2,
   "metadata": {},
   "outputs": [
    {
     "data": {
      "text/plain": [
       "['./config.ini']"
      ]
     },
     "execution_count": 2,
     "metadata": {},
     "output_type": "execute_result"
    }
   ],
   "source": [
    "import configparser\n",
    "\n",
    "config = configparser.ConfigParser()\n",
    "config.read(\"./config.ini\")"
   ]
  },
  {
   "cell_type": "code",
   "execution_count": 3,
   "metadata": {},
   "outputs": [],
   "source": [
    "mcd19a2_obj = pickle.load(open(\"./mcd19a2.pkl\", \"rb\"))\n",
    "mcd19a2_longitude, mcd19a2_latitude = mcd19a2_obj['longitude'], mcd19a2_obj['latitude']"
   ]
  },
  {
   "cell_type": "code",
   "execution_count": 4,
   "metadata": {},
   "outputs": [
    {
     "data": {
      "text/html": [
       "<div>\n",
       "<style scoped>\n",
       "    .dataframe tbody tr th:only-of-type {\n",
       "        vertical-align: middle;\n",
       "    }\n",
       "\n",
       "    .dataframe tbody tr th {\n",
       "        vertical-align: top;\n",
       "    }\n",
       "\n",
       "    .dataframe thead th {\n",
       "        text-align: right;\n",
       "    }\n",
       "</style>\n",
       "<table border=\"1\" class=\"dataframe\">\n",
       "  <thead>\n",
       "    <tr style=\"text-align: right;\">\n",
       "      <th></th>\n",
       "      <th>StationName</th>\n",
       "      <th>StationId</th>\n",
       "      <th>City</th>\n",
       "      <th>Latitude</th>\n",
       "      <th>Longitude</th>\n",
       "    </tr>\n",
       "  </thead>\n",
       "  <tbody>\n",
       "    <tr>\n",
       "      <th>120</th>\n",
       "      <td>Ballygunge, Kolkata - WBPCB</td>\n",
       "      <td>WB007</td>\n",
       "      <td>Kolkata</td>\n",
       "      <td>22.528000</td>\n",
       "      <td>88.363900</td>\n",
       "    </tr>\n",
       "    <tr>\n",
       "      <th>121</th>\n",
       "      <td>Bidhannagar, Kolkata - WBPCB</td>\n",
       "      <td>WB008</td>\n",
       "      <td>Kolkata</td>\n",
       "      <td>22.579700</td>\n",
       "      <td>88.414300</td>\n",
       "    </tr>\n",
       "    <tr>\n",
       "      <th>122</th>\n",
       "      <td>Fort William, Kolkata - WBPCB</td>\n",
       "      <td>WB009</td>\n",
       "      <td>Kolkata</td>\n",
       "      <td>22.554246</td>\n",
       "      <td>88.335874</td>\n",
       "    </tr>\n",
       "    <tr>\n",
       "      <th>123</th>\n",
       "      <td>Jadavpur, Kolkata - WBPCB</td>\n",
       "      <td>WB010</td>\n",
       "      <td>Kolkata</td>\n",
       "      <td>22.495500</td>\n",
       "      <td>88.370900</td>\n",
       "    </tr>\n",
       "    <tr>\n",
       "      <th>124</th>\n",
       "      <td>Rabindra Bharati University, Kolkata - WBPCB</td>\n",
       "      <td>WB011</td>\n",
       "      <td>Kolkata</td>\n",
       "      <td>22.584454</td>\n",
       "      <td>88.359384</td>\n",
       "    </tr>\n",
       "    <tr>\n",
       "      <th>125</th>\n",
       "      <td>Rabindra Sarobar, Kolkata - WBPCB</td>\n",
       "      <td>WB012</td>\n",
       "      <td>Kolkata</td>\n",
       "      <td>22.512145</td>\n",
       "      <td>88.363695</td>\n",
       "    </tr>\n",
       "    <tr>\n",
       "      <th>126</th>\n",
       "      <td>Victoria, Kolkata - WBPCB</td>\n",
       "      <td>WB013</td>\n",
       "      <td>Kolkata</td>\n",
       "      <td>22.544808</td>\n",
       "      <td>88.342558</td>\n",
       "    </tr>\n",
       "  </tbody>\n",
       "</table>\n",
       "</div>"
      ],
      "text/plain": [
       "                                      StationName StationId     City  \\\n",
       "120                   Ballygunge, Kolkata - WBPCB     WB007  Kolkata   \n",
       "121                  Bidhannagar, Kolkata - WBPCB     WB008  Kolkata   \n",
       "122                 Fort William, Kolkata - WBPCB     WB009  Kolkata   \n",
       "123                     Jadavpur, Kolkata - WBPCB     WB010  Kolkata   \n",
       "124  Rabindra Bharati University, Kolkata - WBPCB     WB011  Kolkata   \n",
       "125             Rabindra Sarobar, Kolkata - WBPCB     WB012  Kolkata   \n",
       "126                     Victoria, Kolkata - WBPCB     WB013  Kolkata   \n",
       "\n",
       "      Latitude  Longitude  \n",
       "120  22.528000  88.363900  \n",
       "121  22.579700  88.414300  \n",
       "122  22.554246  88.335874  \n",
       "123  22.495500  88.370900  \n",
       "124  22.584454  88.359384  \n",
       "125  22.512145  88.363695  \n",
       "126  22.544808  88.342558  "
      ]
     },
     "execution_count": 4,
     "metadata": {},
     "output_type": "execute_result"
    }
   ],
   "source": [
    "stations_df = pd.read_pickle('../2015-2020-pm25/india_stations.pkl')\n",
    "stations_df = stations_df[stations_df['City'] == 'Kolkata']\n",
    "stations_df"
   ]
  },
  {
   "cell_type": "code",
   "execution_count": 5,
   "metadata": {},
   "outputs": [],
   "source": [
    "station_ids = [file.split(\"/\")[-1][:5] for file in glob.glob(\"./dl_models/*.pkl\")]"
   ]
  },
  {
   "cell_type": "code",
   "execution_count": 6,
   "metadata": {},
   "outputs": [],
   "source": [
    "np.random.seed(46)\n",
    "train_stations = list(np.random.choice(station_ids, size=6, replace=False))\n",
    "test_stations  = list(set(station_ids) - set(train_stations))"
   ]
  },
  {
   "cell_type": "code",
   "execution_count": 7,
   "metadata": {},
   "outputs": [
    {
     "data": {
      "text/plain": [
       "['WB008', 'WB011', 'WB013', 'WB010', 'WB012', 'WB007']"
      ]
     },
     "execution_count": 7,
     "metadata": {},
     "output_type": "execute_result"
    }
   ],
   "source": [
    "train_stations"
   ]
  },
  {
   "cell_type": "code",
   "execution_count": 8,
   "metadata": {},
   "outputs": [
    {
     "data": {
      "text/plain": [
       "['WB009']"
      ]
     },
     "execution_count": 8,
     "metadata": {},
     "output_type": "execute_result"
    }
   ],
   "source": [
    "test_stations"
   ]
  },
  {
   "cell_type": "code",
   "execution_count": 9,
   "metadata": {},
   "outputs": [],
   "source": [
    "LOCATIONS = {}\n",
    "\n",
    "def add_in_dict(row):\n",
    "    LOCATIONS[row[1]] = (row[0], row[2], row[3])\n",
    "\n",
    "[add_in_dict(row) for row in stations_df[['StationName', 'StationId', 'Latitude', 'Longitude']].values];"
   ]
  },
  {
   "cell_type": "code",
   "execution_count": 10,
   "metadata": {},
   "outputs": [],
   "source": [
    "def get_nearest_point_idx(latitude, longitude, user_lat, user_lon):\n",
    "        \n",
    "    R = 6371000\n",
    "    lat1 = np.radians(user_lat)\n",
    "    lat2 = np.radians(latitude)\n",
    "    delta_lat = np.radians(latitude-user_lat)\n",
    "    delta_lon = np.radians(longitude-user_lon)\n",
    "    a = (np.sin(delta_lat/2))*(np.sin(delta_lat/2))+(np.cos(lat1))*(np.cos(lat2))*(np.sin(delta_lon/2))*(np.sin(delta_lon/2))\n",
    "    c = 2*np.arctan2(np.sqrt(a),np.sqrt(1-a))\n",
    "    d = R*c\n",
    "    \n",
    "    x, y = np.unravel_index(d.argmin(),d.shape)\n",
    "    \n",
    "    return x, y"
   ]
  },
  {
   "cell_type": "code",
   "execution_count": 11,
   "metadata": {},
   "outputs": [],
   "source": [
    "def get_nearest_3x3_grid(data, x, y):\n",
    "    \n",
    "    if x < 1:\n",
    "        x += 1\n",
    "    if x > data.shape[0]-2:\n",
    "        x -= 2\n",
    "    if y < 1:\n",
    "        y += 1\n",
    "    if y > data.shape[1]-2:\n",
    "        y -= 2  \n",
    "    \n",
    "    three_by_three = data[x-1:x+2,y-1:y+2]\n",
    "    three_by_three = three_by_three.astype(float)\n",
    "    \n",
    "    not_nans = np.count_nonzero(~np.isnan(three_by_three))\n",
    "    \n",
    "    if not_nans == 0:\n",
    "        return {\n",
    "            \"x\": x,\n",
    "            \"y\": y,\n",
    "        }\n",
    "    else:\n",
    "        three_by_three_average = np.nanmean(three_by_three)\n",
    "        three_by_three_std = np.nanstd(three_by_three)\n",
    "        three_by_three_median = np.nanmedian(three_by_three)\n",
    "        \n",
    "        return {\n",
    "            \"x\": x,\n",
    "            \"y\": y,\n",
    "            \"data\": three_by_three,\n",
    "            \"average\": three_by_three_average,\n",
    "            \"std\": three_by_three_std,\n",
    "            \"median\": three_by_three_median\n",
    "        }    "
   ]
  },
  {
   "cell_type": "code",
   "execution_count": 12,
   "metadata": {},
   "outputs": [],
   "source": [
    "def nearest_lat_lon(station_lat, station_lon):\n",
    "    x, y = get_nearest_point_idx(mcd19a2_latitude, mcd19a2_longitude, station_lat, station_lon)\n",
    "    nearest_lon, nearest_lat = np.round(mcd19a2_longitude[x,y], 8), np.round(mcd19a2_latitude[x,y], 8)\n",
    "    \n",
    "    return x, y, nearest_lat, nearest_lon"
   ]
  },
  {
   "cell_type": "code",
   "execution_count": 13,
   "metadata": {},
   "outputs": [],
   "source": [
    "import datetime\n",
    "\n",
    "def extract_date_from_file_name(FILE_NAME):\n",
    "    return datetime.datetime.strptime(FILE_NAME.split('/')[-1].split('.')[1:][0][1:], \"%Y%j\")"
   ]
  },
  {
   "cell_type": "code",
   "execution_count": 14,
   "metadata": {},
   "outputs": [],
   "source": [
    "PATH = config['convert']['hdf_path'] + \"*.hdf\"\n",
    "FILE_LIST = glob.glob(PATH)"
   ]
  },
  {
   "cell_type": "code",
   "execution_count": 15,
   "metadata": {},
   "outputs": [],
   "source": [
    "from pyhdf import SD\n",
    "import multiprocessing as mp\n",
    "\n",
    "manager = mp.Manager()\n",
    "rows = manager.list()\n",
    "\n",
    "\n",
    "def perform_task(idx):\n",
    "\n",
    "    # ------------- Data Loading Start ------------------\n",
    "\n",
    "    SDS_NAME = \"Optical_Depth_047\"\n",
    "    FILE_NAME = FILE_LIST[idx]\n",
    "    hdf = SD.SD(FILE_NAME)\n",
    "    sds = hdf.select(SDS_NAME)\n",
    "\n",
    "    NAME = FILE_NAME.split('/')[-1]\n",
    "\n",
    "    data = sds.get()\n",
    "\n",
    "    attributes = sds.attributes()\n",
    "    scale_factor = attributes['scale_factor']\n",
    "    fv = attributes['_FillValue']\n",
    "\n",
    "    data = data.astype(float)\n",
    "    data[data == fv] = np.nan\n",
    "    data = np.nanmean(data, axis=0)\n",
    "\n",
    "    scaled_data = data * scale_factor\n",
    "\n",
    "    # ------------- Data Loading End ------------------\n",
    "\n",
    "    date = extract_date_from_file_name(FILE_NAME)\n",
    "    \n",
    "    # ------------- AOD Extraction Start --------------\n",
    "\n",
    "    for sub_idx in range(len(station_ids)):\n",
    "\n",
    "        station_id = station_ids[sub_idx]\n",
    "        station_name, station_lat, station_lon = LOCATIONS[station_id]\n",
    "        x_coord, y_coord, nearest_lat, nearest_lon = nearest_lat_lon(station_lat, station_lon)\n",
    "\n",
    "        try:\n",
    "            fix_station_aod = get_nearest_3x3_grid(scaled_data, x_coord, y_coord)['average'].round(3)\n",
    "\n",
    "            row = [date.strftime(\"%Y-%m-%d\"), station_id, fix_station_aod, nearest_lat, nearest_lon]\n",
    "            rows.append(row)\n",
    "        except:\n",
    "            pass\n",
    "        \n",
    "    # ------------- AOD Extraction End --------------"
   ]
  },
  {
   "cell_type": "code",
   "execution_count": 16,
   "metadata": {},
   "outputs": [],
   "source": [
    "pool = mp.Pool(mp.cpu_count())\n",
    "pool.map(perform_task, [idx for idx in range(len(FILE_LIST))])\n",
    "pool.close()"
   ]
  },
  {
   "cell_type": "code",
   "execution_count": 17,
   "metadata": {},
   "outputs": [],
   "source": [
    "rows = np.array(list(rows))"
   ]
  },
  {
   "cell_type": "code",
   "execution_count": 18,
   "metadata": {},
   "outputs": [],
   "source": [
    "aod_df = pd.DataFrame(rows, columns=['date', 'station_id', 'aod', 'latitude', 'longitude'])\n",
    "aod_df['date'] = pd.to_datetime(aod_df['date'], format='%Y-%m-%d')\n",
    "aod_df = aod_df.set_index(['date', 'station_id'])\n",
    "aod_df = aod_df.sort_index()"
   ]
  },
  {
   "cell_type": "code",
   "execution_count": 19,
   "metadata": {},
   "outputs": [
    {
     "data": {
      "text/html": [
       "<div>\n",
       "<style scoped>\n",
       "    .dataframe tbody tr th:only-of-type {\n",
       "        vertical-align: middle;\n",
       "    }\n",
       "\n",
       "    .dataframe tbody tr th {\n",
       "        vertical-align: top;\n",
       "    }\n",
       "\n",
       "    .dataframe thead th {\n",
       "        text-align: right;\n",
       "    }\n",
       "</style>\n",
       "<table border=\"1\" class=\"dataframe\">\n",
       "  <thead>\n",
       "    <tr style=\"text-align: right;\">\n",
       "      <th></th>\n",
       "      <th></th>\n",
       "      <th>aod</th>\n",
       "      <th>latitude</th>\n",
       "      <th>longitude</th>\n",
       "    </tr>\n",
       "    <tr>\n",
       "      <th>date</th>\n",
       "      <th>station_id</th>\n",
       "      <th></th>\n",
       "      <th></th>\n",
       "      <th></th>\n",
       "    </tr>\n",
       "  </thead>\n",
       "  <tbody>\n",
       "    <tr>\n",
       "      <th rowspan=\"3\" valign=\"top\">2019-10-05</th>\n",
       "      <th>WB009</th>\n",
       "      <td>0.31</td>\n",
       "      <td>22.55212677</td>\n",
       "      <td>88.34142619</td>\n",
       "    </tr>\n",
       "    <tr>\n",
       "      <th>WB011</th>\n",
       "      <td>0.354</td>\n",
       "      <td>22.58548791</td>\n",
       "      <td>88.35634971</td>\n",
       "    </tr>\n",
       "    <tr>\n",
       "      <th>WB013</th>\n",
       "      <td>0.304</td>\n",
       "      <td>22.54378649</td>\n",
       "      <td>88.34142619</td>\n",
       "    </tr>\n",
       "    <tr>\n",
       "      <th rowspan=\"2\" valign=\"top\">2019-10-12</th>\n",
       "      <th>WB007</th>\n",
       "      <td>0.14</td>\n",
       "      <td>22.52710592</td>\n",
       "      <td>88.37127323</td>\n",
       "    </tr>\n",
       "    <tr>\n",
       "      <th>WB008</th>\n",
       "      <td>0.128</td>\n",
       "      <td>22.57714762</td>\n",
       "      <td>88.41604379</td>\n",
       "    </tr>\n",
       "    <tr>\n",
       "      <th>...</th>\n",
       "      <th>...</th>\n",
       "      <td>...</td>\n",
       "      <td>...</td>\n",
       "      <td>...</td>\n",
       "    </tr>\n",
       "    <tr>\n",
       "      <th rowspan=\"5\" valign=\"top\">2019-12-31</th>\n",
       "      <th>WB009</th>\n",
       "      <td>0.066</td>\n",
       "      <td>22.55212677</td>\n",
       "      <td>88.34142619</td>\n",
       "    </tr>\n",
       "    <tr>\n",
       "      <th>WB010</th>\n",
       "      <td>0.193</td>\n",
       "      <td>22.49374479</td>\n",
       "      <td>88.37127323</td>\n",
       "    </tr>\n",
       "    <tr>\n",
       "      <th>WB011</th>\n",
       "      <td>0.077</td>\n",
       "      <td>22.58548791</td>\n",
       "      <td>88.35634971</td>\n",
       "    </tr>\n",
       "    <tr>\n",
       "      <th>WB012</th>\n",
       "      <td>0.225</td>\n",
       "      <td>22.51042535</td>\n",
       "      <td>88.35634971</td>\n",
       "    </tr>\n",
       "    <tr>\n",
       "      <th>WB013</th>\n",
       "      <td>0.06</td>\n",
       "      <td>22.54378649</td>\n",
       "      <td>88.34142619</td>\n",
       "    </tr>\n",
       "  </tbody>\n",
       "</table>\n",
       "<p>261 rows × 3 columns</p>\n",
       "</div>"
      ],
      "text/plain": [
       "                         aod     latitude    longitude\n",
       "date       station_id                                 \n",
       "2019-10-05 WB009        0.31  22.55212677  88.34142619\n",
       "           WB011       0.354  22.58548791  88.35634971\n",
       "           WB013       0.304  22.54378649  88.34142619\n",
       "2019-10-12 WB007        0.14  22.52710592  88.37127323\n",
       "           WB008       0.128  22.57714762  88.41604379\n",
       "...                      ...          ...          ...\n",
       "2019-12-31 WB009       0.066  22.55212677  88.34142619\n",
       "           WB010       0.193  22.49374479  88.37127323\n",
       "           WB011       0.077  22.58548791  88.35634971\n",
       "           WB012       0.225  22.51042535  88.35634971\n",
       "           WB013        0.06  22.54378649  88.34142619\n",
       "\n",
       "[261 rows x 3 columns]"
      ]
     },
     "execution_count": 19,
     "metadata": {},
     "output_type": "execute_result"
    }
   ],
   "source": [
    "aod_df"
   ]
  },
  {
   "cell_type": "code",
   "execution_count": 20,
   "metadata": {},
   "outputs": [],
   "source": [
    "stations_df_pm25_list = pd.read_pickle('../2015-2020-pm25/india_stations_pm25.pkl')\n",
    "pm25_values_df_list = []\n",
    "\n",
    "for df in stations_df_pm25_list:\n",
    "    if (df['StationId'].iloc[0] in station_ids):\n",
    "        pm25_values_df_list.append(df)"
   ]
  },
  {
   "cell_type": "code",
   "execution_count": 21,
   "metadata": {},
   "outputs": [],
   "source": [
    "START = config['convert']['start_date']\n",
    "END = config['convert']['end_date']"
   ]
  },
  {
   "cell_type": "code",
   "execution_count": 22,
   "metadata": {},
   "outputs": [],
   "source": [
    "def previous_window_impute(station_df, window_length=14):\n",
    "    column = \"PM2.5\"\n",
    "    try:\n",
    "        for idx, value in enumerate(station_df[column].values):\n",
    "            if np.isnan(value):\n",
    "                station_df[column][idx] = station_df[column][idx - window_length]\n",
    "    except:\n",
    "        pass\n",
    "    return station_df"
   ]
  },
  {
   "cell_type": "code",
   "execution_count": 23,
   "metadata": {},
   "outputs": [],
   "source": [
    "for i in range(len(pm25_values_df_list)):\n",
    "    df = pm25_values_df_list[i]\n",
    "    nan_count = df.isna().sum()['PM2.5']\n",
    "    \n",
    "    if (nan_count):\n",
    "        df = previous_window_impute(df)\n",
    "        nan_count = df.isna().sum()['PM2.5']\n",
    "        if (nan_count):\n",
    "            print(df['StationId'].values[0])\n",
    "    \n",
    "    pm25_values_df_list[i] = pm25_values_df_list[i][START:END]"
   ]
  },
  {
   "cell_type": "code",
   "execution_count": 24,
   "metadata": {},
   "outputs": [],
   "source": [
    "pm25_df = pd.DataFrame(columns=pm25_values_df_list[0].columns)"
   ]
  },
  {
   "cell_type": "code",
   "execution_count": 25,
   "metadata": {},
   "outputs": [],
   "source": [
    "for i in range(len(pm25_values_df_list)):\n",
    "    pm25_df = pm25_df.append(pm25_values_df_list[i])"
   ]
  },
  {
   "cell_type": "code",
   "execution_count": 26,
   "metadata": {},
   "outputs": [],
   "source": [
    "pm25_df = pm25_df.reset_index()\n",
    "pm25_df.columns = [\"date\", \"station_id\", \"PM2.5\"] \n",
    "pm25_df = pm25_df.set_index(['date', 'station_id'])\n",
    "pm25_df = pm25_df.sort_index()"
   ]
  },
  {
   "cell_type": "code",
   "execution_count": 27,
   "metadata": {},
   "outputs": [],
   "source": [
    "merged_df = pd.concat([aod_df, pm25_df], axis=1).dropna().astype(\"float64\").reset_index()"
   ]
  },
  {
   "cell_type": "code",
   "execution_count": 28,
   "metadata": {},
   "outputs": [],
   "source": [
    "import random\n",
    "\n",
    "random.seed(42)\n",
    "random_state = 42\n",
    "\n",
    "ratio = 0.2"
   ]
  },
  {
   "cell_type": "code",
   "execution_count": 29,
   "metadata": {},
   "outputs": [],
   "source": [
    "train_df = merged_df[~merged_df['station_id'].isin(test_stations)]\n",
    "test_df  = merged_df[merged_df['station_id'].isin(test_stations)]"
   ]
  },
  {
   "cell_type": "code",
   "execution_count": 30,
   "metadata": {},
   "outputs": [],
   "source": [
    "X_columns = ['aod']\n",
    "y_columns = ['PM2.5']\n",
    "\n",
    "X_train, y_train = train_df[X_columns].values, train_df[y_columns].values.reshape(-1,1)\n",
    "X_test, y_test = test_df[X_columns].values, test_df[y_columns].values.reshape(-1,1)"
   ]
  },
  {
   "cell_type": "code",
   "execution_count": 31,
   "metadata": {},
   "outputs": [],
   "source": [
    "from sklearn.preprocessing import PolynomialFeatures\n",
    "from sklearn.linear_model import LinearRegression\n",
    "from sklearn.tree import DecisionTreeRegressor\n",
    "from sklearn.ensemble import RandomForestRegressor\n",
    "from sklearn.svm import SVR\n",
    "from sklearn.metrics import mean_absolute_error, mean_squared_error, mean_squared_log_error, median_absolute_error\n",
    "from sklearn.metrics import r2_score, mean_absolute_percentage_error\n",
    "from sklearn.preprocessing import StandardScaler"
   ]
  },
  {
   "cell_type": "code",
   "execution_count": 32,
   "metadata": {},
   "outputs": [],
   "source": [
    "def get_polynomial_reg_model():\n",
    "    \n",
    "    poly_reg = PolynomialFeatures()\n",
    "    X_poly = poly_reg.fit_transform(X_train)\n",
    "\n",
    "    regressor = LinearRegression()\n",
    "    regressor.fit(X_poly, y_train)\n",
    "\n",
    "    y_pred = regressor.predict(poly_reg.transform(X_test))\n",
    "    score = {\n",
    "        \"r2_score\": r2_score(y_test, y_pred),\n",
    "        \"MAE\": mean_absolute_error(y_test, y_pred), \n",
    "        \"MSLE\": mean_squared_log_error(y_test, y_pred),\n",
    "        \"MdAbsE\": median_absolute_error(y_test, y_pred),\n",
    "        \"MAPE\": mean_absolute_percentage_error(y_test, y_pred),\n",
    "        \"RMSE\": np.sqrt(mean_squared_error(y_test, y_pred)),\n",
    "        \"mean\": np.mean(y_test)\n",
    "    }\n",
    "    \n",
    "    return regressor, score, poly_reg\n",
    "\n",
    "def get_linear_reg_model():\n",
    "    \n",
    "    regressor = LinearRegression()\n",
    "    regressor.fit(X_train, y_train)\n",
    "\n",
    "    y_pred = regressor.predict(X_test)\n",
    "    score = {\n",
    "        \"r2_score\": r2_score(y_test, y_pred),\n",
    "        \"MAE\": mean_absolute_error(y_test, y_pred), \n",
    "        \"MSLE\": mean_squared_log_error(y_test, y_pred),\n",
    "        \"MdAbsE\": median_absolute_error(y_test, y_pred),\n",
    "        \"MAPE\": mean_absolute_percentage_error(y_test, y_pred),\n",
    "        \"RMSE\": np.sqrt(mean_squared_error(y_test, y_pred)),\n",
    "        \"mean\": np.mean(y_test)\n",
    "    }\n",
    "    \n",
    "    return regressor, score, None\n",
    "\n",
    "def get_decision_tree_reg_model():\n",
    "    \n",
    "    regressor = DecisionTreeRegressor(random_state=random_state)\n",
    "    regressor.fit(X_train, y_train)\n",
    "    \n",
    "    y_pred = regressor.predict(X_test)\n",
    "    score = {\n",
    "        \"r2_score\": r2_score(y_test, y_pred),\n",
    "        \"MAE\": mean_absolute_error(y_test, y_pred), \n",
    "        \"MSLE\": mean_squared_log_error(y_test, y_pred),\n",
    "        \"MdAbsE\": median_absolute_error(y_test, y_pred),\n",
    "        \"MAPE\": mean_absolute_percentage_error(y_test, y_pred),\n",
    "        \"RMSE\": np.sqrt(mean_squared_error(y_test, y_pred)),\n",
    "        \"mean\": np.mean(y_test)\n",
    "    }\n",
    "    \n",
    "    return regressor, score, None\n",
    "\n",
    "def get_random_forest_reg_model():\n",
    "    \n",
    "    regressor = RandomForestRegressor(random_state=random_state)\n",
    "    regressor.fit(X_train, y_train)\n",
    "\n",
    "    y_pred = regressor.predict(X_test)\n",
    "    score = {\n",
    "        \"r2_score\": r2_score(y_test, y_pred),\n",
    "        \"MAE\": mean_absolute_error(y_test, y_pred), \n",
    "        \"MSLE\": mean_squared_log_error(y_test, y_pred),\n",
    "        \"MdAbsE\": median_absolute_error(y_test, y_pred),\n",
    "        \"MAPE\": mean_absolute_percentage_error(y_test, y_pred),\n",
    "        \"RMSE\": np.sqrt(mean_squared_error(y_test, y_pred)),\n",
    "        \"mean\": np.mean(y_test)\n",
    "    }\n",
    "    \n",
    "    return regressor, score, None\n",
    "\n",
    "def get_svr_reg_model():\n",
    "    \n",
    "    sc_X = StandardScaler()\n",
    "    sc_y = StandardScaler()\n",
    "    X_train_sc = sc_X.fit_transform(X_train)\n",
    "    y_train_sc = sc_y.fit_transform(y_train)\n",
    "    \n",
    "    regressor = SVR(kernel='rbf')\n",
    "    regressor.fit(X_train_sc, y_train_sc)\n",
    "    \n",
    "    y_pred = sc_y.inverse_transform(regressor.predict(sc_X.transform(X_test)))\n",
    "    score = {\n",
    "        \"r2_score\": r2_score(y_test, y_pred),\n",
    "        \"MAE\": mean_absolute_error(y_test, y_pred), \n",
    "        \"MSLE\": mean_squared_log_error(y_test, y_pred),\n",
    "        \"MdAbsE\": median_absolute_error(y_test, y_pred),\n",
    "        \"MAPE\": mean_absolute_percentage_error(y_test, y_pred),\n",
    "        \"RMSE\": np.sqrt(mean_squared_error(y_test, y_pred)),\n",
    "        \"mean\": np.mean(y_test)\n",
    "    }\n",
    "    \n",
    "    return regressor, score, (sc_X, sc_y)"
   ]
  },
  {
   "cell_type": "code",
   "execution_count": 33,
   "metadata": {},
   "outputs": [],
   "source": [
    "MODEL_LIST = [\n",
    "    ('Polynomial', get_polynomial_reg_model),\n",
    "    ('Linear', get_linear_reg_model),\n",
    "    ('Decision Tree', get_decision_tree_reg_model),\n",
    "    ('Random Forest', get_random_forest_reg_model),\n",
    "    ('SVR', get_svr_reg_model),\n",
    "]"
   ]
  },
  {
   "cell_type": "code",
   "execution_count": 34,
   "metadata": {},
   "outputs": [
    {
     "data": {
      "text/html": [
       "<div>\n",
       "<style scoped>\n",
       "    .dataframe tbody tr th:only-of-type {\n",
       "        vertical-align: middle;\n",
       "    }\n",
       "\n",
       "    .dataframe tbody tr th {\n",
       "        vertical-align: top;\n",
       "    }\n",
       "\n",
       "    .dataframe thead th {\n",
       "        text-align: right;\n",
       "    }\n",
       "</style>\n",
       "<table border=\"1\" class=\"dataframe\">\n",
       "  <thead>\n",
       "    <tr style=\"text-align: right;\">\n",
       "      <th></th>\n",
       "      <th>model</th>\n",
       "      <th>MAE</th>\n",
       "      <th>RMSE</th>\n",
       "      <th>MSLE</th>\n",
       "      <th>MdAbsE</th>\n",
       "    </tr>\n",
       "  </thead>\n",
       "  <tbody>\n",
       "    <tr>\n",
       "      <th>0</th>\n",
       "      <td>Polynomial Regression</td>\n",
       "      <td>30.798189</td>\n",
       "      <td>38.919127</td>\n",
       "      <td>0.128115</td>\n",
       "      <td>21.469048</td>\n",
       "    </tr>\n",
       "    <tr>\n",
       "      <th>1</th>\n",
       "      <td>Linear Regression</td>\n",
       "      <td>30.376954</td>\n",
       "      <td>38.612425</td>\n",
       "      <td>0.125053</td>\n",
       "      <td>20.714000</td>\n",
       "    </tr>\n",
       "    <tr>\n",
       "      <th>2</th>\n",
       "      <td>Decision Tree Regression</td>\n",
       "      <td>34.528688</td>\n",
       "      <td>43.096724</td>\n",
       "      <td>0.173267</td>\n",
       "      <td>27.030000</td>\n",
       "    </tr>\n",
       "    <tr>\n",
       "      <th>3</th>\n",
       "      <td>Random Forest Regression</td>\n",
       "      <td>31.491722</td>\n",
       "      <td>39.253140</td>\n",
       "      <td>0.147495</td>\n",
       "      <td>25.598024</td>\n",
       "    </tr>\n",
       "    <tr>\n",
       "      <th>4</th>\n",
       "      <td>SVR Regression</td>\n",
       "      <td>32.286084</td>\n",
       "      <td>40.775783</td>\n",
       "      <td>0.145246</td>\n",
       "      <td>23.453482</td>\n",
       "    </tr>\n",
       "  </tbody>\n",
       "</table>\n",
       "</div>"
      ],
      "text/plain": [
       "                      model        MAE       RMSE      MSLE     MdAbsE\n",
       "0     Polynomial Regression  30.798189  38.919127  0.128115  21.469048\n",
       "1         Linear Regression  30.376954  38.612425  0.125053  20.714000\n",
       "2  Decision Tree Regression  34.528688  43.096724  0.173267  27.030000\n",
       "3  Random Forest Regression  31.491722  39.253140  0.147495  25.598024\n",
       "4            SVR Regression  32.286084  40.775783  0.145246  23.453482"
      ]
     },
     "execution_count": 34,
     "metadata": {},
     "output_type": "execute_result"
    }
   ],
   "source": [
    "best = {}\n",
    "best_score = 9e9\n",
    "\n",
    "rows = []\n",
    "\n",
    "for name, model_fn in MODEL_LIST:\n",
    "    regressor, score, scaler = model_fn()\n",
    "    row = [f\"{name} Regression\", score['MAE'], score['RMSE'], score['MSLE'], score['MdAbsE']]\n",
    "    rows.append(row)\n",
    "    \n",
    "    if score['RMSE'] < best_score:\n",
    "        best['name'] = name + \" Regression\"\n",
    "        best['regressor'] = regressor\n",
    "        best['scaler'] = scaler\n",
    "        best['score'] = score\n",
    "        \n",
    "        best_score = score['RMSE']\n",
    "\n",
    "model_dfs = pd.DataFrame(rows, columns=[\"model\", \"MAE\", \"RMSE\", \"MSLE\", \"MdAbsE\"])\n",
    "model_dfs"
   ]
  },
  {
   "cell_type": "code",
   "execution_count": 35,
   "metadata": {},
   "outputs": [
    {
     "name": "stdout",
     "output_type": "stream",
     "text": [
      "\\begin{tabular}{llrrrr}\n",
      "\\toprule\n",
      "{} &                     model &     MAE &    RMSE &   MSLE &  MdAbsE \\\\\n",
      "\\midrule\n",
      "0 &     Polynomial Regression &  30.798 &  38.919 &  0.128 &  21.469 \\\\\n",
      "1 &         Linear Regression &  30.377 &  38.612 &  0.125 &  20.714 \\\\\n",
      "2 &  Decision Tree Regression &  34.529 &  43.097 &  0.173 &  27.030 \\\\\n",
      "3 &  Random Forest Regression &  31.492 &  39.253 &  0.147 &  25.598 \\\\\n",
      "4 &            SVR Regression &  32.286 &  40.776 &  0.145 &  23.453 \\\\\n",
      "\\bottomrule\n",
      "\\end{tabular}\n",
      "\n"
     ]
    }
   ],
   "source": [
    "print(model_dfs.round(3).to_latex())"
   ]
  },
  {
   "cell_type": "code",
   "execution_count": 36,
   "metadata": {},
   "outputs": [],
   "source": [
    "import pickle\n",
    "\n",
    "with open(config['convert'][\"aod_pm25\"], \"wb\") as file:\n",
    "    pickle.dump(best, file, protocol=4)"
   ]
  },
  {
   "cell_type": "code",
   "execution_count": 37,
   "metadata": {},
   "outputs": [],
   "source": [
    "y_columns = ['aod']\n",
    "X_columns = ['PM2.5']\n",
    "\n",
    "X_train, y_train = train_df[X_columns].values, train_df[y_columns].values.reshape(-1,1)\n",
    "X_test, y_test = test_df[X_columns].values, test_df[y_columns].values.reshape(-1,1)"
   ]
  },
  {
   "cell_type": "code",
   "execution_count": 38,
   "metadata": {},
   "outputs": [
    {
     "data": {
      "text/html": [
       "<div>\n",
       "<style scoped>\n",
       "    .dataframe tbody tr th:only-of-type {\n",
       "        vertical-align: middle;\n",
       "    }\n",
       "\n",
       "    .dataframe tbody tr th {\n",
       "        vertical-align: top;\n",
       "    }\n",
       "\n",
       "    .dataframe thead th {\n",
       "        text-align: right;\n",
       "    }\n",
       "</style>\n",
       "<table border=\"1\" class=\"dataframe\">\n",
       "  <thead>\n",
       "    <tr style=\"text-align: right;\">\n",
       "      <th></th>\n",
       "      <th>model</th>\n",
       "      <th>MAE</th>\n",
       "      <th>RMSE</th>\n",
       "      <th>MSLE</th>\n",
       "      <th>MdAbsE</th>\n",
       "    </tr>\n",
       "  </thead>\n",
       "  <tbody>\n",
       "    <tr>\n",
       "      <th>0</th>\n",
       "      <td>Polynomial Regression</td>\n",
       "      <td>0.069549</td>\n",
       "      <td>0.086147</td>\n",
       "      <td>0.005527</td>\n",
       "      <td>0.065727</td>\n",
       "    </tr>\n",
       "    <tr>\n",
       "      <th>1</th>\n",
       "      <td>Linear Regression</td>\n",
       "      <td>0.070377</td>\n",
       "      <td>0.086278</td>\n",
       "      <td>0.005546</td>\n",
       "      <td>0.062828</td>\n",
       "    </tr>\n",
       "    <tr>\n",
       "      <th>2</th>\n",
       "      <td>Decision Tree Regression</td>\n",
       "      <td>0.124949</td>\n",
       "      <td>0.183238</td>\n",
       "      <td>0.021789</td>\n",
       "      <td>0.077000</td>\n",
       "    </tr>\n",
       "    <tr>\n",
       "      <th>3</th>\n",
       "      <td>Random Forest Regression</td>\n",
       "      <td>0.105878</td>\n",
       "      <td>0.146219</td>\n",
       "      <td>0.014746</td>\n",
       "      <td>0.071750</td>\n",
       "    </tr>\n",
       "    <tr>\n",
       "      <th>4</th>\n",
       "      <td>SVR Regression</td>\n",
       "      <td>0.061423</td>\n",
       "      <td>0.087176</td>\n",
       "      <td>0.005518</td>\n",
       "      <td>0.044989</td>\n",
       "    </tr>\n",
       "  </tbody>\n",
       "</table>\n",
       "</div>"
      ],
      "text/plain": [
       "                      model       MAE      RMSE      MSLE    MdAbsE\n",
       "0     Polynomial Regression  0.069549  0.086147  0.005527  0.065727\n",
       "1         Linear Regression  0.070377  0.086278  0.005546  0.062828\n",
       "2  Decision Tree Regression  0.124949  0.183238  0.021789  0.077000\n",
       "3  Random Forest Regression  0.105878  0.146219  0.014746  0.071750\n",
       "4            SVR Regression  0.061423  0.087176  0.005518  0.044989"
      ]
     },
     "execution_count": 38,
     "metadata": {},
     "output_type": "execute_result"
    }
   ],
   "source": [
    "best = {}\n",
    "best_score = 9e9\n",
    "\n",
    "rows = []\n",
    "\n",
    "for name, model_fn in MODEL_LIST:\n",
    "    regressor, score, scaler = model_fn()\n",
    "    row = [f\"{name} Regression\", score['MAE'], score['RMSE'], score['MSLE'], score['MdAbsE']]\n",
    "    rows.append(row)\n",
    "    \n",
    "    if score['RMSE'] < best_score:\n",
    "        best['name'] = name + \" Regression\"\n",
    "        best['regressor'] = regressor\n",
    "        best['scaler'] = scaler\n",
    "        best['score'] = score\n",
    "        \n",
    "        best_score = score['RMSE']\n",
    "\n",
    "model_dfs = pd.DataFrame(rows, columns=[\"model\", \"MAE\", \"RMSE\", \"MSLE\", \"MdAbsE\"])\n",
    "model_dfs"
   ]
  },
  {
   "cell_type": "code",
   "execution_count": 39,
   "metadata": {},
   "outputs": [
    {
     "name": "stdout",
     "output_type": "stream",
     "text": [
      "\\begin{tabular}{llrrrr}\n",
      "\\toprule\n",
      "{} &                     model &    MAE &   RMSE &   MSLE &  MdAbsE \\\\\n",
      "\\midrule\n",
      "0 &     Polynomial Regression &  0.070 &  0.086 &  0.006 &   0.066 \\\\\n",
      "1 &         Linear Regression &  0.070 &  0.086 &  0.006 &   0.063 \\\\\n",
      "2 &  Decision Tree Regression &  0.125 &  0.183 &  0.022 &   0.077 \\\\\n",
      "3 &  Random Forest Regression &  0.106 &  0.146 &  0.015 &   0.072 \\\\\n",
      "4 &            SVR Regression &  0.061 &  0.087 &  0.006 &   0.045 \\\\\n",
      "\\bottomrule\n",
      "\\end{tabular}\n",
      "\n"
     ]
    }
   ],
   "source": [
    "print(model_dfs.round(3).to_latex())"
   ]
  },
  {
   "cell_type": "code",
   "execution_count": 40,
   "metadata": {},
   "outputs": [],
   "source": [
    "import pickle\n",
    "\n",
    "with open(config['convert'][\"pm25_aod\"], \"wb\") as file:\n",
    "    pickle.dump(best, file, protocol=4)"
   ]
  }
 ],
 "metadata": {
  "kernelspec": {
   "display_name": "Python 3",
   "language": "python",
   "name": "python3"
  },
  "language_info": {
   "codemirror_mode": {
    "name": "ipython",
    "version": 3
   },
   "file_extension": ".py",
   "mimetype": "text/x-python",
   "name": "python",
   "nbconvert_exporter": "python",
   "pygments_lexer": "ipython3",
   "version": "3.8.5"
  }
 },
 "nbformat": 4,
 "nbformat_minor": 4
}
