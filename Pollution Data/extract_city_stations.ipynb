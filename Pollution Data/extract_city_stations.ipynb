{
 "cells": [
  {
   "cell_type": "code",
   "execution_count": 1,
   "metadata": {},
   "outputs": [],
   "source": [
    "import pandas as pd"
   ]
  },
  {
   "cell_type": "code",
   "execution_count": 2,
   "metadata": {},
   "outputs": [],
   "source": [
    "india_stations_df = pd.read_pickle(\"./india_stations.pkl\")\n",
    "india_stations_df.dropna().reset_index(drop=True).to_csv(f'./india_stations.csv')"
   ]
  },
  {
   "cell_type": "code",
   "execution_count": 3,
   "metadata": {},
   "outputs": [],
   "source": [
    "india_stations_df.columns = ['Station Name', 'StationId', 'City', 'Latitude', 'Longitude']"
   ]
  },
  {
   "cell_type": "code",
   "execution_count": 4,
   "metadata": {},
   "outputs": [
    {
     "data": {
      "text/html": [
       "<div>\n",
       "<style scoped>\n",
       "    .dataframe tbody tr th:only-of-type {\n",
       "        vertical-align: middle;\n",
       "    }\n",
       "\n",
       "    .dataframe tbody tr th {\n",
       "        vertical-align: top;\n",
       "    }\n",
       "\n",
       "    .dataframe thead th {\n",
       "        text-align: right;\n",
       "    }\n",
       "</style>\n",
       "<table border=\"1\" class=\"dataframe\">\n",
       "  <thead>\n",
       "    <tr style=\"text-align: right;\">\n",
       "      <th></th>\n",
       "      <th>Station Name</th>\n",
       "      <th>Latitude</th>\n",
       "      <th>Longitude</th>\n",
       "    </tr>\n",
       "  </thead>\n",
       "  <tbody>\n",
       "    <tr>\n",
       "      <th>0</th>\n",
       "      <td>Borivali East, Mumbai - MPCB</td>\n",
       "      <td>19.405793</td>\n",
       "      <td>72.872945</td>\n",
       "    </tr>\n",
       "    <tr>\n",
       "      <th>1</th>\n",
       "      <td>Chhatrapati Shivaji Intl. Airport (T2), Mumbai...</td>\n",
       "      <td>19.089560</td>\n",
       "      <td>72.865614</td>\n",
       "    </tr>\n",
       "    <tr>\n",
       "      <th>2</th>\n",
       "      <td>Colaba, Mumbai - MPCB</td>\n",
       "      <td>19.041816</td>\n",
       "      <td>72.865228</td>\n",
       "    </tr>\n",
       "    <tr>\n",
       "      <th>3</th>\n",
       "      <td>Kurla, Mumbai - MPCB</td>\n",
       "      <td>19.052736</td>\n",
       "      <td>72.915511</td>\n",
       "    </tr>\n",
       "    <tr>\n",
       "      <th>4</th>\n",
       "      <td>Powai, Mumbai - MPCB</td>\n",
       "      <td>19.052736</td>\n",
       "      <td>72.915511</td>\n",
       "    </tr>\n",
       "    <tr>\n",
       "      <th>5</th>\n",
       "      <td>Sion, Mumbai - MPCB</td>\n",
       "      <td>19.041816</td>\n",
       "      <td>72.865228</td>\n",
       "    </tr>\n",
       "    <tr>\n",
       "      <th>6</th>\n",
       "      <td>Vasai West, Mumbai - MPCB</td>\n",
       "      <td>19.330105</td>\n",
       "      <td>72.814971</td>\n",
       "    </tr>\n",
       "    <tr>\n",
       "      <th>7</th>\n",
       "      <td>Vile Parle West, Mumbai - MPCB</td>\n",
       "      <td>19.097572</td>\n",
       "      <td>72.839720</td>\n",
       "    </tr>\n",
       "    <tr>\n",
       "      <th>8</th>\n",
       "      <td>Worli, Mumbai - MPCB</td>\n",
       "      <td>19.041816</td>\n",
       "      <td>72.865228</td>\n",
       "    </tr>\n",
       "  </tbody>\n",
       "</table>\n",
       "</div>"
      ],
      "text/plain": [
       "                                        Station Name   Latitude  Longitude\n",
       "0                       Borivali East, Mumbai - MPCB  19.405793  72.872945\n",
       "1  Chhatrapati Shivaji Intl. Airport (T2), Mumbai...  19.089560  72.865614\n",
       "2                              Colaba, Mumbai - MPCB  19.041816  72.865228\n",
       "3                               Kurla, Mumbai - MPCB  19.052736  72.915511\n",
       "4                               Powai, Mumbai - MPCB  19.052736  72.915511\n",
       "5                                Sion, Mumbai - MPCB  19.041816  72.865228\n",
       "6                          Vasai West, Mumbai - MPCB  19.330105  72.814971\n",
       "7                     Vile Parle West, Mumbai - MPCB  19.097572  72.839720\n",
       "8                               Worli, Mumbai - MPCB  19.041816  72.865228"
      ]
     },
     "execution_count": 4,
     "metadata": {},
     "output_type": "execute_result"
    }
   ],
   "source": [
    "city = \"Mumbai\"\n",
    "\n",
    "india_stations_df[india_stations_df['City'] == city][['Station Name', 'Latitude', 'Longitude']].reset_index(drop=True)"
   ]
  }
 ],
 "metadata": {
  "kernelspec": {
   "display_name": "Python 3",
   "language": "python",
   "name": "python3"
  },
  "language_info": {
   "codemirror_mode": {
    "name": "ipython",
    "version": 3
   },
   "file_extension": ".py",
   "mimetype": "text/x-python",
   "name": "python",
   "nbconvert_exporter": "python",
   "pygments_lexer": "ipython3",
   "version": "3.8.5"
  }
 },
 "nbformat": 4,
 "nbformat_minor": 4
}
