{
 "cells": [
  {
   "cell_type": "code",
   "execution_count": 1,
   "metadata": {},
   "outputs": [],
   "source": [
    "import pandas as pd\n",
    "import numpy as np"
   ]
  },
  {
   "cell_type": "raw",
   "metadata": {},
   "source": [
    "import configparser\n",
    "\n",
    "config = configparser.ConfigParser()\n",
    "config.read(\"./config.ini\")"
   ]
  },
  {
   "cell_type": "raw",
   "metadata": {},
   "source": [
    "stations_df = pd.read_csv('./stations.csv')\n",
    "stations_df.head()"
   ]
  },
  {
   "cell_type": "raw",
   "metadata": {},
   "source": [
    "india_stations_df = stations_df[(stations_df['Status'] == 'Active')][['StationId', 'StationName', 'City']].reset_index(drop=True)\n",
    "india_stations_df.head()"
   ]
  },
  {
   "cell_type": "raw",
   "metadata": {},
   "source": [
    "india_stations_df.tail()"
   ]
  },
  {
   "cell_type": "raw",
   "metadata": {},
   "source": [
    "import googlemaps\n",
    "\n",
    "gmaps = googlemaps.Client(key=config['GMaps']['api_key'])\n",
    "\n",
    "def get_lat_lon(place):\n",
    "    geocode_result = gmaps.geocode(place + f', India')\n",
    "    result = geocode_result[0]['geometry']['location']\n",
    "    return result['lat'], result['lng']"
   ]
  },
  {
   "cell_type": "raw",
   "metadata": {},
   "source": [
    "geocode_rows = []\n",
    "\n",
    "for station_name in india_stations_df['StationName'].values:\n",
    "    try:\n",
    "        lat, lon = get_lat_lon(station_name)\n",
    "        row = (station_name, lat, lon)\n",
    "        geocode_rows.append(row)\n",
    "    except:\n",
    "        pass"
   ]
  },
  {
   "cell_type": "raw",
   "metadata": {},
   "source": [
    "geocode_df = pd.DataFrame(geocode_rows, columns=['StationName', 'Latitude', 'Longitude'])"
   ]
  },
  {
   "cell_type": "raw",
   "metadata": {},
   "source": [
    "india_stations_df = pd.concat([india_stations_df.set_index('StationName'), geocode_df.set_index('StationName')], axis=1).reset_index()\n",
    "india_stations_df.columns = ['StationName', 'StationId', 'City', 'Latitude', 'Longitude']"
   ]
  },
  {
   "cell_type": "raw",
   "metadata": {},
   "source": [
    "india_stations_df.head()"
   ]
  },
  {
   "cell_type": "raw",
   "metadata": {},
   "source": [
    "india_stations_df.dropna().reset_index(drop=True).to_pickle(f'./india_stations.pkl', protocol=4)"
   ]
  },
  {
   "cell_type": "raw",
   "metadata": {},
   "source": [
    "india_stations_df.shape"
   ]
  },
  {
   "cell_type": "code",
   "execution_count": 2,
   "metadata": {},
   "outputs": [],
   "source": [
    "india_stations_df = pd.read_csv(\"./india_stations-corrected.csv\", index_col=0)\n",
    "india_stations_df.to_pickle(f'./india_stations.pkl', protocol=4)"
   ]
  },
  {
   "cell_type": "raw",
   "metadata": {},
   "source": [
    "india_stations_df = pd.read_pickle(\"./india_stations.pkl\")\n",
    "india_stations_df.dropna().reset_index(drop=True).to_csv(f'./india_stations.csv')"
   ]
  }
 ],
 "metadata": {
  "kernelspec": {
   "display_name": "Python 3",
   "language": "python",
   "name": "python3"
  },
  "language_info": {
   "codemirror_mode": {
    "name": "ipython",
    "version": 3
   },
   "file_extension": ".py",
   "mimetype": "text/x-python",
   "name": "python",
   "nbconvert_exporter": "python",
   "pygments_lexer": "ipython3",
   "version": "3.8.5"
  }
 },
 "nbformat": 4,
 "nbformat_minor": 4
}
