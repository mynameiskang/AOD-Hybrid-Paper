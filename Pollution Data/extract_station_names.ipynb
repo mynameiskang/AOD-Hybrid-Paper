{
 "cells": [
  {
   "cell_type": "code",
   "execution_count": 1,
   "metadata": {},
   "outputs": [],
   "source": [
    "import pandas as pd\n",
    "import numpy as np"
   ]
  },
  {
   "cell_type": "code",
   "execution_count": 2,
   "metadata": {},
   "outputs": [
    {
     "data": {
      "text/html": [
       "<div>\n",
       "<style scoped>\n",
       "    .dataframe tbody tr th:only-of-type {\n",
       "        vertical-align: middle;\n",
       "    }\n",
       "\n",
       "    .dataframe tbody tr th {\n",
       "        vertical-align: top;\n",
       "    }\n",
       "\n",
       "    .dataframe thead th {\n",
       "        text-align: right;\n",
       "    }\n",
       "</style>\n",
       "<table border=\"1\" class=\"dataframe\">\n",
       "  <thead>\n",
       "    <tr style=\"text-align: right;\">\n",
       "      <th></th>\n",
       "      <th>StationId</th>\n",
       "      <th>StationName</th>\n",
       "      <th>City</th>\n",
       "      <th>State</th>\n",
       "      <th>Status</th>\n",
       "    </tr>\n",
       "  </thead>\n",
       "  <tbody>\n",
       "    <tr>\n",
       "      <th>0</th>\n",
       "      <td>AP001</td>\n",
       "      <td>Secretariat, Amaravati - APPCB</td>\n",
       "      <td>Amaravati</td>\n",
       "      <td>Andhra Pradesh</td>\n",
       "      <td>Active</td>\n",
       "    </tr>\n",
       "    <tr>\n",
       "      <th>1</th>\n",
       "      <td>AP002</td>\n",
       "      <td>Anand Kala Kshetram, Rajamahendravaram - APPCB</td>\n",
       "      <td>Rajamahendravaram</td>\n",
       "      <td>Andhra Pradesh</td>\n",
       "      <td>NaN</td>\n",
       "    </tr>\n",
       "    <tr>\n",
       "      <th>2</th>\n",
       "      <td>AP003</td>\n",
       "      <td>Tirumala, Tirupati - APPCB</td>\n",
       "      <td>Tirupati</td>\n",
       "      <td>Andhra Pradesh</td>\n",
       "      <td>NaN</td>\n",
       "    </tr>\n",
       "    <tr>\n",
       "      <th>3</th>\n",
       "      <td>AP004</td>\n",
       "      <td>PWD Grounds, Vijayawada - APPCB</td>\n",
       "      <td>Vijayawada</td>\n",
       "      <td>Andhra Pradesh</td>\n",
       "      <td>NaN</td>\n",
       "    </tr>\n",
       "    <tr>\n",
       "      <th>4</th>\n",
       "      <td>AP005</td>\n",
       "      <td>GVM Corporation, Visakhapatnam - APPCB</td>\n",
       "      <td>Visakhapatnam</td>\n",
       "      <td>Andhra Pradesh</td>\n",
       "      <td>Active</td>\n",
       "    </tr>\n",
       "  </tbody>\n",
       "</table>\n",
       "</div>"
      ],
      "text/plain": [
       "  StationId                                     StationName  \\\n",
       "0     AP001                  Secretariat, Amaravati - APPCB   \n",
       "1     AP002  Anand Kala Kshetram, Rajamahendravaram - APPCB   \n",
       "2     AP003                      Tirumala, Tirupati - APPCB   \n",
       "3     AP004                 PWD Grounds, Vijayawada - APPCB   \n",
       "4     AP005          GVM Corporation, Visakhapatnam - APPCB   \n",
       "\n",
       "                City           State  Status  \n",
       "0          Amaravati  Andhra Pradesh  Active  \n",
       "1  Rajamahendravaram  Andhra Pradesh     NaN  \n",
       "2           Tirupati  Andhra Pradesh     NaN  \n",
       "3         Vijayawada  Andhra Pradesh     NaN  \n",
       "4      Visakhapatnam  Andhra Pradesh  Active  "
      ]
     },
     "execution_count": 2,
     "metadata": {},
     "output_type": "execute_result"
    }
   ],
   "source": [
    "stations_df = pd.read_csv('./stations.csv')\n",
    "stations_df.head()"
   ]
  },
  {
   "cell_type": "code",
   "execution_count": 3,
   "metadata": {},
   "outputs": [],
   "source": [
    "cities = ['Delhi', 'Kolkata', 'Mumbai', 'Chennai']"
   ]
  },
  {
   "cell_type": "code",
   "execution_count": 4,
   "metadata": {},
   "outputs": [
    {
     "name": "stdout",
     "output_type": "stream",
     "text": [
      "17                                Alipur, Delhi - DPCC\n",
      "18                           Anand Vihar, Delhi - DPCC\n",
      "19                           Ashok Vihar, Delhi - DPCC\n",
      "20                              Aya Nagar, Delhi - IMD\n",
      "21                                Bawana, Delhi - DPCC\n",
      "22                        Burari Crossing, Delhi - IMD\n",
      "23                      CRRI Mathura Road, Delhi - IMD\n",
      "24                                   DTU, Delhi - CPCB\n",
      "25        Dr. Karni Singh Shooting Range, Delhi - DPCC\n",
      "26                       Dwarka-Sector 8, Delhi - DPCC\n",
      "27                      East Arjun Nagar, Delhi - CPCB\n",
      "28                       IGI Airport (T3), Delhi - IMD\n",
      "29                 IHBAS, Dilshad Garden, Delhi - CPCB\n",
      "30                                   ITO, Delhi - CPCB\n",
      "31                          Jahangirpuri, Delhi - DPCC\n",
      "32              Jawaharlal Nehru Stadium, Delhi - DPCC\n",
      "33                             Lodhi Road, Delhi - IMD\n",
      "34    Major Dhyan Chand National Stadium, Delhi - DPCC\n",
      "35                           Mandir Marg, Delhi - DPCC\n",
      "36                                Mundka, Delhi - DPCC\n",
      "37                           NSIT Dwarka, Delhi - CPCB\n",
      "38                             Najafgarh, Delhi - DPCC\n",
      "39                                Narela, Delhi - DPCC\n",
      "40                           Nehru Nagar, Delhi - DPCC\n",
      "41                       North Campus, DU, Delhi - IMD\n",
      "42                         Okhla Phase-2, Delhi - DPCC\n",
      "43                            Patparganj, Delhi - DPCC\n",
      "44                          Punjabi Bagh, Delhi - DPCC\n",
      "45                                  Pusa, Delhi - DPCC\n",
      "46                                   Pusa, Delhi - IMD\n",
      "47                             R K Puram, Delhi - DPCC\n",
      "48                                Rohini, Delhi - DPCC\n",
      "49                              Shadipur, Delhi - CPCB\n",
      "50                              Sirifort, Delhi - CPCB\n",
      "51                           Sonia Vihar, Delhi - DPCC\n",
      "52                    Sri Aurobindo Marg, Delhi - DPCC\n",
      "53                           Vivek Vihar, Delhi - DPCC\n",
      "54                              Wazirpur, Delhi - DPCC\n",
      "Name: StationName, dtype: object\n",
      "----------------\n",
      "222                     Ballygunge, Kolkata - WBPCB\n",
      "223                    Bidhannagar, Kolkata - WBPCB\n",
      "224                   Fort William, Kolkata - WBPCB\n",
      "225                       Jadavpur, Kolkata - WBPCB\n",
      "226    Rabindra Bharati University, Kolkata - WBPCB\n",
      "227               Rabindra Sarobar, Kolkata - WBPCB\n",
      "228                       Victoria, Kolkata - WBPCB\n",
      "Name: StationName, dtype: object\n",
      "----------------\n",
      "139                                Bandra, Mumbai - MPCB\n",
      "140                         Borivali East, Mumbai - MPCB\n",
      "141    Chhatrapati Shivaji Intl. Airport (T2), Mumbai...\n",
      "142                                Colaba, Mumbai - MPCB\n",
      "143                                 Kurla, Mumbai - MPCB\n",
      "144                                 Powai, Mumbai - MPCB\n",
      "145                                  Sion, Mumbai - MPCB\n",
      "146                            Vasai West, Mumbai - MPCB\n",
      "147                       Vile Parle West, Mumbai - MPCB\n",
      "148                                 Worli, Mumbai - MPCB\n",
      "Name: StationName, dtype: object\n",
      "----------------\n",
      "179      Alandur Bus Depot, Chennai - CPCB\n",
      "180        Manali Village, Chennai - TNPCB\n",
      "181                 Manali, Chennai - CPCB\n",
      "182    Velachery Res. Area, Chennai - CPCB\n",
      "Name: StationName, dtype: object\n",
      "----------------\n"
     ]
    }
   ],
   "source": [
    "for city in cities:\n",
    "    print(stations_df[stations_df[\"City\"] == city]['StationName'])\n",
    "    print(\"----------------\")"
   ]
  },
  {
   "cell_type": "code",
   "execution_count": 5,
   "metadata": {},
   "outputs": [],
   "source": [
    "import pickle\n",
    "obj = pickle.load(open(\"./india_stations_pm25.pkl\", \"rb\"))"
   ]
  },
  {
   "cell_type": "code",
   "execution_count": 6,
   "metadata": {},
   "outputs": [
    {
     "name": "stdout",
     "output_type": "stream",
     "text": [
      "           StationId  PM2.5\n",
      "Date                       \n",
      "2017-11-24     AP001  71.36\n",
      "2017-11-25     AP001  81.40\n",
      "2017-11-26     AP001  78.32\n",
      "2017-11-27     AP001  88.76\n",
      "2017-11-28     AP001  64.18\n"
     ]
    }
   ],
   "source": [
    "print(obj[0].head())"
   ]
  }
 ],
 "metadata": {
  "kernelspec": {
   "display_name": "Python 3",
   "language": "python",
   "name": "python3"
  },
  "language_info": {
   "codemirror_mode": {
    "name": "ipython",
    "version": 3
   },
   "file_extension": ".py",
   "mimetype": "text/x-python",
   "name": "python",
   "nbconvert_exporter": "python",
   "pygments_lexer": "ipython3",
   "version": "3.8.5"
  }
 },
 "nbformat": 4,
 "nbformat_minor": 4
}
