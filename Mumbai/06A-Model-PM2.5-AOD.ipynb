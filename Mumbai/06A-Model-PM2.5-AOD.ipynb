{
 "cells": [
  {
   "cell_type": "code",
   "execution_count": 1,
   "metadata": {},
   "outputs": [],
   "source": [
    "import pandas as pd\n",
    "import numpy as np\n",
    "\n",
    "import pickle\n",
    "import glob\n",
    "\n",
    "import warnings\n",
    "warnings.filterwarnings('ignore')"
   ]
  },
  {
   "cell_type": "code",
   "execution_count": 2,
   "metadata": {},
   "outputs": [
    {
     "data": {
      "text/plain": [
       "['./config.ini']"
      ]
     },
     "execution_count": 2,
     "metadata": {},
     "output_type": "execute_result"
    }
   ],
   "source": [
    "import configparser\n",
    "\n",
    "config = configparser.ConfigParser()\n",
    "config.read(\"./config.ini\")"
   ]
  },
  {
   "cell_type": "code",
   "execution_count": 3,
   "metadata": {},
   "outputs": [],
   "source": [
    "mcd19a2_obj = pickle.load(open(\"./mcd19a2.pkl\", \"rb\"))\n",
    "mcd19a2_longitude, mcd19a2_latitude = mcd19a2_obj['longitude'], mcd19a2_obj['latitude']"
   ]
  },
  {
   "cell_type": "code",
   "execution_count": 4,
   "metadata": {},
   "outputs": [
    {
     "data": {
      "text/html": [
       "<div>\n",
       "<style scoped>\n",
       "    .dataframe tbody tr th:only-of-type {\n",
       "        vertical-align: middle;\n",
       "    }\n",
       "\n",
       "    .dataframe tbody tr th {\n",
       "        vertical-align: top;\n",
       "    }\n",
       "\n",
       "    .dataframe thead th {\n",
       "        text-align: right;\n",
       "    }\n",
       "</style>\n",
       "<table border=\"1\" class=\"dataframe\">\n",
       "  <thead>\n",
       "    <tr style=\"text-align: right;\">\n",
       "      <th></th>\n",
       "      <th>StationName</th>\n",
       "      <th>StationId</th>\n",
       "      <th>City</th>\n",
       "      <th>Latitude</th>\n",
       "      <th>Longitude</th>\n",
       "    </tr>\n",
       "  </thead>\n",
       "  <tbody>\n",
       "    <tr>\n",
       "      <th>89</th>\n",
       "      <td>Borivali East, Mumbai - MPCB</td>\n",
       "      <td>MH006</td>\n",
       "      <td>Mumbai</td>\n",
       "      <td>19.229800</td>\n",
       "      <td>72.860900</td>\n",
       "    </tr>\n",
       "    <tr>\n",
       "      <th>90</th>\n",
       "      <td>Chhatrapati Shivaji Intl. Airport (T2), Mumbai...</td>\n",
       "      <td>MH007</td>\n",
       "      <td>Mumbai</td>\n",
       "      <td>19.089560</td>\n",
       "      <td>72.865614</td>\n",
       "    </tr>\n",
       "    <tr>\n",
       "      <th>91</th>\n",
       "      <td>Colaba, Mumbai - MPCB</td>\n",
       "      <td>MH008</td>\n",
       "      <td>Mumbai</td>\n",
       "      <td>18.906700</td>\n",
       "      <td>72.814700</td>\n",
       "    </tr>\n",
       "    <tr>\n",
       "      <th>92</th>\n",
       "      <td>Kurla, Mumbai - MPCB</td>\n",
       "      <td>MH009</td>\n",
       "      <td>Mumbai</td>\n",
       "      <td>19.080000</td>\n",
       "      <td>72.915511</td>\n",
       "    </tr>\n",
       "    <tr>\n",
       "      <th>93</th>\n",
       "      <td>Powai, Mumbai - MPCB</td>\n",
       "      <td>MH010</td>\n",
       "      <td>Mumbai</td>\n",
       "      <td>19.125000</td>\n",
       "      <td>72.906000</td>\n",
       "    </tr>\n",
       "    <tr>\n",
       "      <th>94</th>\n",
       "      <td>Sion, Mumbai - MPCB</td>\n",
       "      <td>MH011</td>\n",
       "      <td>Mumbai</td>\n",
       "      <td>19.028000</td>\n",
       "      <td>72.861900</td>\n",
       "    </tr>\n",
       "    <tr>\n",
       "      <th>95</th>\n",
       "      <td>Vasai West, Mumbai - MPCB</td>\n",
       "      <td>MH012</td>\n",
       "      <td>Mumbai</td>\n",
       "      <td>19.330105</td>\n",
       "      <td>72.814971</td>\n",
       "    </tr>\n",
       "    <tr>\n",
       "      <th>96</th>\n",
       "      <td>Vile Parle West, Mumbai - MPCB</td>\n",
       "      <td>MH013</td>\n",
       "      <td>Mumbai</td>\n",
       "      <td>19.110000</td>\n",
       "      <td>72.839720</td>\n",
       "    </tr>\n",
       "    <tr>\n",
       "      <th>97</th>\n",
       "      <td>Worli, Mumbai - MPCB</td>\n",
       "      <td>MH014</td>\n",
       "      <td>Mumbai</td>\n",
       "      <td>18.998600</td>\n",
       "      <td>72.817400</td>\n",
       "    </tr>\n",
       "  </tbody>\n",
       "</table>\n",
       "</div>"
      ],
      "text/plain": [
       "                                          StationName StationId    City  \\\n",
       "89                       Borivali East, Mumbai - MPCB     MH006  Mumbai   \n",
       "90  Chhatrapati Shivaji Intl. Airport (T2), Mumbai...     MH007  Mumbai   \n",
       "91                              Colaba, Mumbai - MPCB     MH008  Mumbai   \n",
       "92                               Kurla, Mumbai - MPCB     MH009  Mumbai   \n",
       "93                               Powai, Mumbai - MPCB     MH010  Mumbai   \n",
       "94                                Sion, Mumbai - MPCB     MH011  Mumbai   \n",
       "95                          Vasai West, Mumbai - MPCB     MH012  Mumbai   \n",
       "96                     Vile Parle West, Mumbai - MPCB     MH013  Mumbai   \n",
       "97                               Worli, Mumbai - MPCB     MH014  Mumbai   \n",
       "\n",
       "     Latitude  Longitude  \n",
       "89  19.229800  72.860900  \n",
       "90  19.089560  72.865614  \n",
       "91  18.906700  72.814700  \n",
       "92  19.080000  72.915511  \n",
       "93  19.125000  72.906000  \n",
       "94  19.028000  72.861900  \n",
       "95  19.330105  72.814971  \n",
       "96  19.110000  72.839720  \n",
       "97  18.998600  72.817400  "
      ]
     },
     "execution_count": 4,
     "metadata": {},
     "output_type": "execute_result"
    }
   ],
   "source": [
    "stations_df = pd.read_pickle('../2015-2020-pm25/india_stations.pkl')\n",
    "stations_df = stations_df[stations_df['City'] == 'Mumbai']\n",
    "stations_df"
   ]
  },
  {
   "cell_type": "code",
   "execution_count": 5,
   "metadata": {},
   "outputs": [],
   "source": [
    "station_ids = [file.split(\"/\")[-1][:5] for file in glob.glob(\"./dl_models/*.pkl\")]"
   ]
  },
  {
   "cell_type": "code",
   "execution_count": 6,
   "metadata": {},
   "outputs": [],
   "source": [
    "np.random.seed(46)\n",
    "train_stations = list(np.random.choice(station_ids, size=6, replace=False))\n",
    "test_stations  = list(set(station_ids) - set(train_stations))"
   ]
  },
  {
   "cell_type": "code",
   "execution_count": 7,
   "metadata": {},
   "outputs": [
    {
     "data": {
      "text/plain": [
       "['MH013', 'MH006', 'MH008', 'MH007', 'MH009', 'MH010']"
      ]
     },
     "execution_count": 7,
     "metadata": {},
     "output_type": "execute_result"
    }
   ],
   "source": [
    "train_stations"
   ]
  },
  {
   "cell_type": "code",
   "execution_count": 8,
   "metadata": {},
   "outputs": [
    {
     "data": {
      "text/plain": [
       "['MH011', 'MH014', 'MH012']"
      ]
     },
     "execution_count": 8,
     "metadata": {},
     "output_type": "execute_result"
    }
   ],
   "source": [
    "test_stations"
   ]
  },
  {
   "cell_type": "code",
   "execution_count": 9,
   "metadata": {},
   "outputs": [],
   "source": [
    "LOCATIONS = {}\n",
    "\n",
    "def add_in_dict(row):\n",
    "    LOCATIONS[row[1]] = (row[0], row[2], row[3])\n",
    "\n",
    "[add_in_dict(row) for row in stations_df[['StationName', 'StationId', 'Latitude', 'Longitude']].values];"
   ]
  },
  {
   "cell_type": "code",
   "execution_count": 10,
   "metadata": {},
   "outputs": [],
   "source": [
    "def get_nearest_point_idx(latitude, longitude, user_lat, user_lon):\n",
    "        \n",
    "    R = 6371000\n",
    "    lat1 = np.radians(user_lat)\n",
    "    lat2 = np.radians(latitude)\n",
    "    delta_lat = np.radians(latitude-user_lat)\n",
    "    delta_lon = np.radians(longitude-user_lon)\n",
    "    a = (np.sin(delta_lat/2))*(np.sin(delta_lat/2))+(np.cos(lat1))*(np.cos(lat2))*(np.sin(delta_lon/2))*(np.sin(delta_lon/2))\n",
    "    c = 2*np.arctan2(np.sqrt(a),np.sqrt(1-a))\n",
    "    d = R*c\n",
    "    \n",
    "    x, y = np.unravel_index(d.argmin(),d.shape)\n",
    "    \n",
    "    return x, y"
   ]
  },
  {
   "cell_type": "code",
   "execution_count": 11,
   "metadata": {},
   "outputs": [],
   "source": [
    "def get_nearest_3x3_grid(data, x, y):\n",
    "    \n",
    "    if x < 1:\n",
    "        x += 1\n",
    "    if x > data.shape[0]-2:\n",
    "        x -= 2\n",
    "    if y < 1:\n",
    "        y += 1\n",
    "    if y > data.shape[1]-2:\n",
    "        y -= 2  \n",
    "    \n",
    "    three_by_three = data[x-1:x+2,y-1:y+2]\n",
    "    three_by_three = three_by_three.astype(float)\n",
    "    \n",
    "    not_nans = np.count_nonzero(~np.isnan(three_by_three))\n",
    "    \n",
    "    if not_nans == 0:\n",
    "        return {\n",
    "            \"x\": x,\n",
    "            \"y\": y,\n",
    "        }\n",
    "    else:\n",
    "        three_by_three_average = np.nanmean(three_by_three)\n",
    "        three_by_three_std = np.nanstd(three_by_three)\n",
    "        three_by_three_median = np.nanmedian(three_by_three)\n",
    "        \n",
    "        return {\n",
    "            \"x\": x,\n",
    "            \"y\": y,\n",
    "            \"data\": three_by_three,\n",
    "            \"average\": three_by_three_average,\n",
    "            \"std\": three_by_three_std,\n",
    "            \"median\": three_by_three_median\n",
    "        }    "
   ]
  },
  {
   "cell_type": "code",
   "execution_count": 12,
   "metadata": {},
   "outputs": [],
   "source": [
    "def nearest_lat_lon(station_lat, station_lon):\n",
    "    x, y = get_nearest_point_idx(mcd19a2_latitude, mcd19a2_longitude, station_lat, station_lon)\n",
    "    nearest_lon, nearest_lat = np.round(mcd19a2_longitude[x,y], 8), np.round(mcd19a2_latitude[x,y], 8)\n",
    "    \n",
    "    return x, y, nearest_lat, nearest_lon"
   ]
  },
  {
   "cell_type": "code",
   "execution_count": 13,
   "metadata": {},
   "outputs": [],
   "source": [
    "import datetime\n",
    "\n",
    "def extract_date_from_file_name(FILE_NAME):\n",
    "    return datetime.datetime.strptime(FILE_NAME.split('/')[-1].split('.')[1:][0][1:], \"%Y%j\")"
   ]
  },
  {
   "cell_type": "code",
   "execution_count": 14,
   "metadata": {},
   "outputs": [],
   "source": [
    "PATH = config['convert']['hdf_path'] + \"*.hdf\"\n",
    "FILE_LIST = glob.glob(PATH)"
   ]
  },
  {
   "cell_type": "code",
   "execution_count": 15,
   "metadata": {},
   "outputs": [],
   "source": [
    "from pyhdf import SD\n",
    "import multiprocessing as mp\n",
    "\n",
    "manager = mp.Manager()\n",
    "rows = manager.list()\n",
    "\n",
    "\n",
    "def perform_task(idx):\n",
    "\n",
    "    # ------------- Data Loading Start ------------------\n",
    "\n",
    "    SDS_NAME = \"Optical_Depth_047\"\n",
    "    FILE_NAME = FILE_LIST[idx]\n",
    "    hdf = SD.SD(FILE_NAME)\n",
    "    sds = hdf.select(SDS_NAME)\n",
    "\n",
    "    NAME = FILE_NAME.split('/')[-1]\n",
    "\n",
    "    data = sds.get()\n",
    "\n",
    "    attributes = sds.attributes()\n",
    "    scale_factor = attributes['scale_factor']\n",
    "    fv = attributes['_FillValue']\n",
    "\n",
    "    data = data.astype(float)\n",
    "    data[data == fv] = np.nan\n",
    "    data = np.nanmean(data, axis=0)\n",
    "\n",
    "    scaled_data = data * scale_factor\n",
    "\n",
    "    # ------------- Data Loading End ------------------\n",
    "\n",
    "    date = extract_date_from_file_name(FILE_NAME)\n",
    "    \n",
    "    # ------------- AOD Extraction Start --------------\n",
    "\n",
    "    for sub_idx in range(len(station_ids)):\n",
    "\n",
    "        station_id = station_ids[sub_idx]\n",
    "        station_name, station_lat, station_lon = LOCATIONS[station_id]\n",
    "        x_coord, y_coord, nearest_lat, nearest_lon = nearest_lat_lon(station_lat, station_lon)\n",
    "\n",
    "        try:\n",
    "            fix_station_aod = get_nearest_3x3_grid(scaled_data, x_coord, y_coord)['average'].round(3)\n",
    "\n",
    "            row = [date.strftime(\"%Y-%m-%d\"), station_id, fix_station_aod, nearest_lat, nearest_lon]\n",
    "            rows.append(row)\n",
    "        except:\n",
    "            pass\n",
    "        \n",
    "    # ------------- AOD Extraction End --------------"
   ]
  },
  {
   "cell_type": "code",
   "execution_count": 16,
   "metadata": {},
   "outputs": [],
   "source": [
    "pool = mp.Pool(mp.cpu_count())\n",
    "pool.map(perform_task, [idx for idx in range(len(FILE_LIST))])\n",
    "pool.close()"
   ]
  },
  {
   "cell_type": "code",
   "execution_count": 17,
   "metadata": {},
   "outputs": [],
   "source": [
    "rows = np.array(list(rows))"
   ]
  },
  {
   "cell_type": "code",
   "execution_count": 18,
   "metadata": {},
   "outputs": [],
   "source": [
    "aod_df = pd.DataFrame(rows, columns=['date', 'station_id', 'aod', 'latitude', 'longitude'])\n",
    "aod_df['date'] = pd.to_datetime(aod_df['date'], format='%Y-%m-%d')\n",
    "aod_df = aod_df.set_index(['date', 'station_id'])\n",
    "aod_df = aod_df.sort_index()"
   ]
  },
  {
   "cell_type": "code",
   "execution_count": 19,
   "metadata": {},
   "outputs": [
    {
     "data": {
      "text/html": [
       "<div>\n",
       "<style scoped>\n",
       "    .dataframe tbody tr th:only-of-type {\n",
       "        vertical-align: middle;\n",
       "    }\n",
       "\n",
       "    .dataframe tbody tr th {\n",
       "        vertical-align: top;\n",
       "    }\n",
       "\n",
       "    .dataframe thead th {\n",
       "        text-align: right;\n",
       "    }\n",
       "</style>\n",
       "<table border=\"1\" class=\"dataframe\">\n",
       "  <thead>\n",
       "    <tr style=\"text-align: right;\">\n",
       "      <th></th>\n",
       "      <th></th>\n",
       "      <th>aod</th>\n",
       "      <th>latitude</th>\n",
       "      <th>longitude</th>\n",
       "    </tr>\n",
       "    <tr>\n",
       "      <th>date</th>\n",
       "      <th>station_id</th>\n",
       "      <th></th>\n",
       "      <th></th>\n",
       "      <th></th>\n",
       "    </tr>\n",
       "  </thead>\n",
       "  <tbody>\n",
       "    <tr>\n",
       "      <th rowspan=\"4\" valign=\"top\">2019-10-01</th>\n",
       "      <th>MH006</th>\n",
       "      <td>0.223</td>\n",
       "      <td>19.23269391</td>\n",
       "      <td>72.85953478</td>\n",
       "    </tr>\n",
       "    <tr>\n",
       "      <th>MH007</th>\n",
       "      <td>0.298</td>\n",
       "      <td>19.09090909</td>\n",
       "      <td>72.8708573</td>\n",
       "    </tr>\n",
       "    <tr>\n",
       "      <th>MH012</th>\n",
       "      <td>0.312</td>\n",
       "      <td>19.33277731</td>\n",
       "      <td>72.8142447</td>\n",
       "    </tr>\n",
       "    <tr>\n",
       "      <th>MH013</th>\n",
       "      <td>0.283</td>\n",
       "      <td>19.10758966</td>\n",
       "      <td>72.83688974</td>\n",
       "    </tr>\n",
       "    <tr>\n",
       "      <th>2019-10-02</th>\n",
       "      <th>MH006</th>\n",
       "      <td>0.109</td>\n",
       "      <td>19.23269391</td>\n",
       "      <td>72.85953478</td>\n",
       "    </tr>\n",
       "    <tr>\n",
       "      <th>...</th>\n",
       "      <th>...</th>\n",
       "      <td>...</td>\n",
       "      <td>...</td>\n",
       "      <td>...</td>\n",
       "    </tr>\n",
       "    <tr>\n",
       "      <th rowspan=\"4\" valign=\"top\">2019-12-30</th>\n",
       "      <th>MH011</th>\n",
       "      <td>0.437</td>\n",
       "      <td>19.02418682</td>\n",
       "      <td>72.85953478</td>\n",
       "    </tr>\n",
       "    <tr>\n",
       "      <th>MH012</th>\n",
       "      <td>0.435</td>\n",
       "      <td>19.33277731</td>\n",
       "      <td>72.8142447</td>\n",
       "    </tr>\n",
       "    <tr>\n",
       "      <th>MH013</th>\n",
       "      <td>0.445</td>\n",
       "      <td>19.10758966</td>\n",
       "      <td>72.83688974</td>\n",
       "    </tr>\n",
       "    <tr>\n",
       "      <th>MH014</th>\n",
       "      <td>0.409</td>\n",
       "      <td>18.99916597</td>\n",
       "      <td>72.8142447</td>\n",
       "    </tr>\n",
       "    <tr>\n",
       "      <th>2019-12-31</th>\n",
       "      <th>MH008</th>\n",
       "      <td>0.224</td>\n",
       "      <td>18.90742285</td>\n",
       "      <td>72.8142447</td>\n",
       "    </tr>\n",
       "  </tbody>\n",
       "</table>\n",
       "<p>288 rows × 3 columns</p>\n",
       "</div>"
      ],
      "text/plain": [
       "                         aod     latitude    longitude\n",
       "date       station_id                                 \n",
       "2019-10-01 MH006       0.223  19.23269391  72.85953478\n",
       "           MH007       0.298  19.09090909   72.8708573\n",
       "           MH012       0.312  19.33277731   72.8142447\n",
       "           MH013       0.283  19.10758966  72.83688974\n",
       "2019-10-02 MH006       0.109  19.23269391  72.85953478\n",
       "...                      ...          ...          ...\n",
       "2019-12-30 MH011       0.437  19.02418682  72.85953478\n",
       "           MH012       0.435  19.33277731   72.8142447\n",
       "           MH013       0.445  19.10758966  72.83688974\n",
       "           MH014       0.409  18.99916597   72.8142447\n",
       "2019-12-31 MH008       0.224  18.90742285   72.8142447\n",
       "\n",
       "[288 rows x 3 columns]"
      ]
     },
     "execution_count": 19,
     "metadata": {},
     "output_type": "execute_result"
    }
   ],
   "source": [
    "aod_df"
   ]
  },
  {
   "cell_type": "code",
   "execution_count": 20,
   "metadata": {},
   "outputs": [],
   "source": [
    "stations_df_pm25_list = pd.read_pickle('../2015-2020-pm25/india_stations_pm25.pkl')\n",
    "pm25_values_df_list = []\n",
    "\n",
    "for df in stations_df_pm25_list:\n",
    "    if (df['StationId'].iloc[0] in station_ids):\n",
    "        pm25_values_df_list.append(df)"
   ]
  },
  {
   "cell_type": "code",
   "execution_count": 21,
   "metadata": {},
   "outputs": [],
   "source": [
    "START = config['convert']['start_date']\n",
    "END = config['convert']['end_date']"
   ]
  },
  {
   "cell_type": "code",
   "execution_count": 22,
   "metadata": {},
   "outputs": [],
   "source": [
    "def previous_window_impute(station_df, window_length=14):\n",
    "    column = \"PM2.5\"\n",
    "    try:\n",
    "        for idx, value in enumerate(station_df[column].values):\n",
    "            if np.isnan(value):\n",
    "                station_df[column][idx] = station_df[column][idx - window_length]\n",
    "    except:\n",
    "        pass\n",
    "    return station_df"
   ]
  },
  {
   "cell_type": "code",
   "execution_count": 23,
   "metadata": {},
   "outputs": [],
   "source": [
    "for i in range(len(pm25_values_df_list)):\n",
    "    df = pm25_values_df_list[i]\n",
    "    nan_count = df.isna().sum()['PM2.5']\n",
    "    \n",
    "    if (nan_count):\n",
    "        df = previous_window_impute(df)\n",
    "        nan_count = df.isna().sum()['PM2.5']\n",
    "        if (nan_count):\n",
    "            print(df['StationId'].values[0])\n",
    "    \n",
    "    pm25_values_df_list[i] = pm25_values_df_list[i][START:END]"
   ]
  },
  {
   "cell_type": "code",
   "execution_count": 24,
   "metadata": {},
   "outputs": [],
   "source": [
    "pm25_df = pd.DataFrame(columns=pm25_values_df_list[0].columns)"
   ]
  },
  {
   "cell_type": "code",
   "execution_count": 25,
   "metadata": {},
   "outputs": [],
   "source": [
    "for i in range(len(pm25_values_df_list)):\n",
    "    pm25_df = pm25_df.append(pm25_values_df_list[i])"
   ]
  },
  {
   "cell_type": "code",
   "execution_count": 26,
   "metadata": {},
   "outputs": [],
   "source": [
    "pm25_df = pm25_df.reset_index()\n",
    "pm25_df.columns = [\"date\", \"station_id\", \"PM2.5\"] \n",
    "pm25_df = pm25_df.set_index(['date', 'station_id'])\n",
    "pm25_df = pm25_df.sort_index()"
   ]
  },
  {
   "cell_type": "code",
   "execution_count": 27,
   "metadata": {},
   "outputs": [],
   "source": [
    "merged_df = pd.concat([aod_df, pm25_df], axis=1).dropna().astype(\"float64\").reset_index()"
   ]
  },
  {
   "cell_type": "code",
   "execution_count": 28,
   "metadata": {},
   "outputs": [],
   "source": [
    "import random\n",
    "\n",
    "random.seed(42)\n",
    "random_state = 42\n",
    "\n",
    "ratio = 0.2"
   ]
  },
  {
   "cell_type": "code",
   "execution_count": 29,
   "metadata": {},
   "outputs": [],
   "source": [
    "train_df = merged_df[~merged_df['station_id'].isin(test_stations)]\n",
    "test_df  = merged_df[merged_df['station_id'].isin(test_stations)]"
   ]
  },
  {
   "cell_type": "code",
   "execution_count": 30,
   "metadata": {},
   "outputs": [],
   "source": [
    "X_columns = ['aod']\n",
    "y_columns = ['PM2.5']\n",
    "\n",
    "X_train, y_train = train_df[X_columns].values, train_df[y_columns].values.reshape(-1,1)\n",
    "X_test, y_test = test_df[X_columns].values, test_df[y_columns].values.reshape(-1,1)"
   ]
  },
  {
   "cell_type": "code",
   "execution_count": 31,
   "metadata": {},
   "outputs": [],
   "source": [
    "from sklearn.preprocessing import PolynomialFeatures\n",
    "from sklearn.linear_model import LinearRegression\n",
    "from sklearn.tree import DecisionTreeRegressor\n",
    "from sklearn.ensemble import RandomForestRegressor\n",
    "from sklearn.svm import SVR\n",
    "from sklearn.metrics import mean_absolute_error, mean_squared_error, mean_squared_log_error, median_absolute_error\n",
    "from sklearn.metrics import r2_score, mean_absolute_percentage_error\n",
    "from sklearn.preprocessing import StandardScaler"
   ]
  },
  {
   "cell_type": "code",
   "execution_count": 32,
   "metadata": {},
   "outputs": [],
   "source": [
    "def get_polynomial_reg_model():\n",
    "    \n",
    "    poly_reg = PolynomialFeatures()\n",
    "    X_poly = poly_reg.fit_transform(X_train)\n",
    "\n",
    "    regressor = LinearRegression()\n",
    "    regressor.fit(X_poly, y_train)\n",
    "\n",
    "    y_pred = regressor.predict(poly_reg.transform(X_test))\n",
    "    score = {\n",
    "        \"r2_score\": r2_score(y_test, y_pred),\n",
    "        \"MAE\": mean_absolute_error(y_test, y_pred), \n",
    "        \"MSLE\": mean_squared_log_error(y_test, y_pred),\n",
    "        \"MdAbsE\": median_absolute_error(y_test, y_pred),\n",
    "        \"MAPE\": mean_absolute_percentage_error(y_test, y_pred),\n",
    "        \"RMSE\": np.sqrt(mean_squared_error(y_test, y_pred)),\n",
    "        \"mean\": np.mean(y_test)\n",
    "    }\n",
    "    \n",
    "    return regressor, score, poly_reg\n",
    "\n",
    "def get_linear_reg_model():\n",
    "    \n",
    "    regressor = LinearRegression()\n",
    "    regressor.fit(X_train, y_train)\n",
    "\n",
    "    y_pred = regressor.predict(X_test)\n",
    "    score = {\n",
    "        \"r2_score\": r2_score(y_test, y_pred),\n",
    "        \"MAE\": mean_absolute_error(y_test, y_pred), \n",
    "        \"MSLE\": mean_squared_log_error(y_test, y_pred),\n",
    "        \"MdAbsE\": median_absolute_error(y_test, y_pred),\n",
    "        \"MAPE\": mean_absolute_percentage_error(y_test, y_pred),\n",
    "        \"RMSE\": np.sqrt(mean_squared_error(y_test, y_pred)),\n",
    "        \"mean\": np.mean(y_test)\n",
    "    }\n",
    "    \n",
    "    return regressor, score, None\n",
    "\n",
    "def get_decision_tree_reg_model():\n",
    "    \n",
    "    regressor = DecisionTreeRegressor(random_state=random_state)\n",
    "    regressor.fit(X_train, y_train)\n",
    "    \n",
    "    y_pred = regressor.predict(X_test)\n",
    "    score = {\n",
    "        \"r2_score\": r2_score(y_test, y_pred),\n",
    "        \"MAE\": mean_absolute_error(y_test, y_pred), \n",
    "        \"MSLE\": mean_squared_log_error(y_test, y_pred),\n",
    "        \"MdAbsE\": median_absolute_error(y_test, y_pred),\n",
    "        \"MAPE\": mean_absolute_percentage_error(y_test, y_pred),\n",
    "        \"RMSE\": np.sqrt(mean_squared_error(y_test, y_pred)),\n",
    "        \"mean\": np.mean(y_test)\n",
    "    }\n",
    "    \n",
    "    return regressor, score, None\n",
    "\n",
    "def get_random_forest_reg_model():\n",
    "    \n",
    "    regressor = RandomForestRegressor(random_state=random_state)\n",
    "    regressor.fit(X_train, y_train)\n",
    "\n",
    "    y_pred = regressor.predict(X_test)\n",
    "    score = {\n",
    "        \"r2_score\": r2_score(y_test, y_pred),\n",
    "        \"MAE\": mean_absolute_error(y_test, y_pred), \n",
    "        \"MSLE\": mean_squared_log_error(y_test, y_pred),\n",
    "        \"MdAbsE\": median_absolute_error(y_test, y_pred),\n",
    "        \"MAPE\": mean_absolute_percentage_error(y_test, y_pred),\n",
    "        \"RMSE\": np.sqrt(mean_squared_error(y_test, y_pred)),\n",
    "        \"mean\": np.mean(y_test)\n",
    "    }\n",
    "    \n",
    "    return regressor, score, None\n",
    "\n",
    "def get_svr_reg_model():\n",
    "    \n",
    "    sc_X = StandardScaler()\n",
    "    sc_y = StandardScaler()\n",
    "    X_train_sc = sc_X.fit_transform(X_train)\n",
    "    y_train_sc = sc_y.fit_transform(y_train)\n",
    "    \n",
    "    regressor = SVR(kernel='rbf')\n",
    "    regressor.fit(X_train_sc, y_train_sc)\n",
    "    \n",
    "    y_pred = sc_y.inverse_transform(regressor.predict(sc_X.transform(X_test)))\n",
    "    score = {\n",
    "        \"r2_score\": r2_score(y_test, y_pred),\n",
    "        \"MAE\": mean_absolute_error(y_test, y_pred), \n",
    "        \"MSLE\": mean_squared_log_error(y_test, y_pred),\n",
    "        \"MdAbsE\": median_absolute_error(y_test, y_pred),\n",
    "        \"MAPE\": mean_absolute_percentage_error(y_test, y_pred),\n",
    "        \"RMSE\": np.sqrt(mean_squared_error(y_test, y_pred)),\n",
    "        \"mean\": np.mean(y_test)\n",
    "    }\n",
    "    \n",
    "    return regressor, score, (sc_X, sc_y)"
   ]
  },
  {
   "cell_type": "code",
   "execution_count": 33,
   "metadata": {},
   "outputs": [],
   "source": [
    "MODEL_LIST = [\n",
    "    ('Polynomial', get_polynomial_reg_model),\n",
    "    ('Linear', get_linear_reg_model),\n",
    "    ('Decision Tree', get_decision_tree_reg_model),\n",
    "    ('Random Forest', get_random_forest_reg_model),\n",
    "    ('SVR', get_svr_reg_model),\n",
    "]"
   ]
  },
  {
   "cell_type": "code",
   "execution_count": 34,
   "metadata": {},
   "outputs": [
    {
     "data": {
      "text/html": [
       "<div>\n",
       "<style scoped>\n",
       "    .dataframe tbody tr th:only-of-type {\n",
       "        vertical-align: middle;\n",
       "    }\n",
       "\n",
       "    .dataframe tbody tr th {\n",
       "        vertical-align: top;\n",
       "    }\n",
       "\n",
       "    .dataframe thead th {\n",
       "        text-align: right;\n",
       "    }\n",
       "</style>\n",
       "<table border=\"1\" class=\"dataframe\">\n",
       "  <thead>\n",
       "    <tr style=\"text-align: right;\">\n",
       "      <th></th>\n",
       "      <th>model</th>\n",
       "      <th>MAE</th>\n",
       "      <th>RMSE</th>\n",
       "      <th>MSLE</th>\n",
       "      <th>MdAbsE</th>\n",
       "    </tr>\n",
       "  </thead>\n",
       "  <tbody>\n",
       "    <tr>\n",
       "      <th>0</th>\n",
       "      <td>Polynomial Regression</td>\n",
       "      <td>22.916547</td>\n",
       "      <td>28.915636</td>\n",
       "      <td>0.329224</td>\n",
       "      <td>18.817099</td>\n",
       "    </tr>\n",
       "    <tr>\n",
       "      <th>1</th>\n",
       "      <td>Linear Regression</td>\n",
       "      <td>24.044562</td>\n",
       "      <td>29.670031</td>\n",
       "      <td>0.346116</td>\n",
       "      <td>22.207244</td>\n",
       "    </tr>\n",
       "    <tr>\n",
       "      <th>2</th>\n",
       "      <td>Decision Tree Regression</td>\n",
       "      <td>24.741650</td>\n",
       "      <td>32.864573</td>\n",
       "      <td>0.475820</td>\n",
       "      <td>19.335000</td>\n",
       "    </tr>\n",
       "    <tr>\n",
       "      <th>3</th>\n",
       "      <td>Random Forest Regression</td>\n",
       "      <td>22.320270</td>\n",
       "      <td>29.925366</td>\n",
       "      <td>0.384774</td>\n",
       "      <td>20.338197</td>\n",
       "    </tr>\n",
       "    <tr>\n",
       "      <th>4</th>\n",
       "      <td>SVR Regression</td>\n",
       "      <td>22.205885</td>\n",
       "      <td>29.462948</td>\n",
       "      <td>0.327102</td>\n",
       "      <td>18.385554</td>\n",
       "    </tr>\n",
       "  </tbody>\n",
       "</table>\n",
       "</div>"
      ],
      "text/plain": [
       "                      model        MAE       RMSE      MSLE     MdAbsE\n",
       "0     Polynomial Regression  22.916547  28.915636  0.329224  18.817099\n",
       "1         Linear Regression  24.044562  29.670031  0.346116  22.207244\n",
       "2  Decision Tree Regression  24.741650  32.864573  0.475820  19.335000\n",
       "3  Random Forest Regression  22.320270  29.925366  0.384774  20.338197\n",
       "4            SVR Regression  22.205885  29.462948  0.327102  18.385554"
      ]
     },
     "execution_count": 34,
     "metadata": {},
     "output_type": "execute_result"
    }
   ],
   "source": [
    "best = {}\n",
    "best_score = 9e9\n",
    "\n",
    "rows = []\n",
    "\n",
    "for name, model_fn in MODEL_LIST:\n",
    "    regressor, score, scaler = model_fn()\n",
    "    row = [f\"{name} Regression\", score['MAE'], score['RMSE'], score['MSLE'], score['MdAbsE']]\n",
    "    rows.append(row)\n",
    "    \n",
    "    if score['RMSE'] < best_score:\n",
    "        best['name'] = name + \" Regression\"\n",
    "        best['regressor'] = regressor\n",
    "        best['scaler'] = scaler\n",
    "        best['score'] = score\n",
    "        \n",
    "        best_score = score['RMSE']\n",
    "\n",
    "model_dfs = pd.DataFrame(rows, columns=[\"model\", \"MAE\", \"RMSE\", \"MSLE\", \"MdAbsE\"])\n",
    "model_dfs"
   ]
  },
  {
   "cell_type": "code",
   "execution_count": 35,
   "metadata": {},
   "outputs": [
    {
     "name": "stdout",
     "output_type": "stream",
     "text": [
      "\\begin{tabular}{llrrrr}\n",
      "\\toprule\n",
      "{} &                     model &     MAE &    RMSE &   MSLE &  MdAbsE \\\\\n",
      "\\midrule\n",
      "0 &     Polynomial Regression &  22.917 &  28.916 &  0.329 &  18.817 \\\\\n",
      "1 &         Linear Regression &  24.045 &  29.670 &  0.346 &  22.207 \\\\\n",
      "2 &  Decision Tree Regression &  24.742 &  32.865 &  0.476 &  19.335 \\\\\n",
      "3 &  Random Forest Regression &  22.320 &  29.925 &  0.385 &  20.338 \\\\\n",
      "4 &            SVR Regression &  22.206 &  29.463 &  0.327 &  18.386 \\\\\n",
      "\\bottomrule\n",
      "\\end{tabular}\n",
      "\n"
     ]
    }
   ],
   "source": [
    "print(model_dfs.round(3).to_latex())"
   ]
  },
  {
   "cell_type": "code",
   "execution_count": 36,
   "metadata": {},
   "outputs": [],
   "source": [
    "import pickle\n",
    "\n",
    "with open(config['convert'][\"aod_pm25\"], \"wb\") as file:\n",
    "    pickle.dump(best, file, protocol=4)"
   ]
  },
  {
   "cell_type": "code",
   "execution_count": 37,
   "metadata": {},
   "outputs": [],
   "source": [
    "y_columns = ['aod']\n",
    "X_columns = ['PM2.5']\n",
    "\n",
    "X_train, y_train = train_df[X_columns].values, train_df[y_columns].values.reshape(-1,1)\n",
    "X_test, y_test = test_df[X_columns].values, test_df[y_columns].values.reshape(-1,1)"
   ]
  },
  {
   "cell_type": "code",
   "execution_count": 38,
   "metadata": {},
   "outputs": [
    {
     "data": {
      "text/html": [
       "<div>\n",
       "<style scoped>\n",
       "    .dataframe tbody tr th:only-of-type {\n",
       "        vertical-align: middle;\n",
       "    }\n",
       "\n",
       "    .dataframe tbody tr th {\n",
       "        vertical-align: top;\n",
       "    }\n",
       "\n",
       "    .dataframe thead th {\n",
       "        text-align: right;\n",
       "    }\n",
       "</style>\n",
       "<table border=\"1\" class=\"dataframe\">\n",
       "  <thead>\n",
       "    <tr style=\"text-align: right;\">\n",
       "      <th></th>\n",
       "      <th>model</th>\n",
       "      <th>MAE</th>\n",
       "      <th>RMSE</th>\n",
       "      <th>MSLE</th>\n",
       "      <th>MdAbsE</th>\n",
       "    </tr>\n",
       "  </thead>\n",
       "  <tbody>\n",
       "    <tr>\n",
       "      <th>0</th>\n",
       "      <td>Polynomial Regression</td>\n",
       "      <td>0.094761</td>\n",
       "      <td>0.113743</td>\n",
       "      <td>0.007818</td>\n",
       "      <td>0.086358</td>\n",
       "    </tr>\n",
       "    <tr>\n",
       "      <th>1</th>\n",
       "      <td>Linear Regression</td>\n",
       "      <td>0.097858</td>\n",
       "      <td>0.116912</td>\n",
       "      <td>0.008224</td>\n",
       "      <td>0.092465</td>\n",
       "    </tr>\n",
       "    <tr>\n",
       "      <th>2</th>\n",
       "      <td>Decision Tree Regression</td>\n",
       "      <td>0.119931</td>\n",
       "      <td>0.157235</td>\n",
       "      <td>0.014513</td>\n",
       "      <td>0.092000</td>\n",
       "    </tr>\n",
       "    <tr>\n",
       "      <th>3</th>\n",
       "      <td>Random Forest Regression</td>\n",
       "      <td>0.097115</td>\n",
       "      <td>0.128537</td>\n",
       "      <td>0.009840</td>\n",
       "      <td>0.075140</td>\n",
       "    </tr>\n",
       "    <tr>\n",
       "      <th>4</th>\n",
       "      <td>SVR Regression</td>\n",
       "      <td>0.089156</td>\n",
       "      <td>0.112598</td>\n",
       "      <td>0.007554</td>\n",
       "      <td>0.073024</td>\n",
       "    </tr>\n",
       "  </tbody>\n",
       "</table>\n",
       "</div>"
      ],
      "text/plain": [
       "                      model       MAE      RMSE      MSLE    MdAbsE\n",
       "0     Polynomial Regression  0.094761  0.113743  0.007818  0.086358\n",
       "1         Linear Regression  0.097858  0.116912  0.008224  0.092465\n",
       "2  Decision Tree Regression  0.119931  0.157235  0.014513  0.092000\n",
       "3  Random Forest Regression  0.097115  0.128537  0.009840  0.075140\n",
       "4            SVR Regression  0.089156  0.112598  0.007554  0.073024"
      ]
     },
     "execution_count": 38,
     "metadata": {},
     "output_type": "execute_result"
    }
   ],
   "source": [
    "best = {}\n",
    "best_score = 9e9\n",
    "\n",
    "rows = []\n",
    "\n",
    "for name, model_fn in MODEL_LIST:\n",
    "    regressor, score, scaler = model_fn()\n",
    "    row = [f\"{name} Regression\", score['MAE'], score['RMSE'], score['MSLE'], score['MdAbsE']]\n",
    "    rows.append(row)\n",
    "    \n",
    "    if score['RMSE'] < best_score:\n",
    "        best['name'] = name + \" Regression\"\n",
    "        best['regressor'] = regressor\n",
    "        best['scaler'] = scaler\n",
    "        best['score'] = score\n",
    "        \n",
    "        best_score = score['RMSE']\n",
    "\n",
    "model_dfs = pd.DataFrame(rows, columns=[\"model\", \"MAE\", \"RMSE\", \"MSLE\", \"MdAbsE\"])\n",
    "model_dfs"
   ]
  },
  {
   "cell_type": "code",
   "execution_count": 39,
   "metadata": {},
   "outputs": [
    {
     "name": "stdout",
     "output_type": "stream",
     "text": [
      "\\begin{tabular}{llrrrr}\n",
      "\\toprule\n",
      "{} &                     model &    MAE &   RMSE &   MSLE &  MdAbsE \\\\\n",
      "\\midrule\n",
      "0 &     Polynomial Regression &  0.095 &  0.114 &  0.008 &   0.086 \\\\\n",
      "1 &         Linear Regression &  0.098 &  0.117 &  0.008 &   0.092 \\\\\n",
      "2 &  Decision Tree Regression &  0.120 &  0.157 &  0.015 &   0.092 \\\\\n",
      "3 &  Random Forest Regression &  0.097 &  0.129 &  0.010 &   0.075 \\\\\n",
      "4 &            SVR Regression &  0.089 &  0.113 &  0.008 &   0.073 \\\\\n",
      "\\bottomrule\n",
      "\\end{tabular}\n",
      "\n"
     ]
    }
   ],
   "source": [
    "print(model_dfs.round(3).to_latex())"
   ]
  },
  {
   "cell_type": "code",
   "execution_count": 40,
   "metadata": {},
   "outputs": [],
   "source": [
    "import pickle\n",
    "\n",
    "with open(config['convert'][\"pm25_aod\"], \"wb\") as file:\n",
    "    pickle.dump(best, file, protocol=4)"
   ]
  }
 ],
 "metadata": {
  "kernelspec": {
   "display_name": "Python 3",
   "language": "python",
   "name": "python3"
  },
  "language_info": {
   "codemirror_mode": {
    "name": "ipython",
    "version": 3
   },
   "file_extension": ".py",
   "mimetype": "text/x-python",
   "name": "python",
   "nbconvert_exporter": "python",
   "pygments_lexer": "ipython3",
   "version": "3.8.5"
  }
 },
 "nbformat": 4,
 "nbformat_minor": 4
}
