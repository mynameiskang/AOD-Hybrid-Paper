{
 "cells": [
  {
   "cell_type": "code",
   "execution_count": 1,
   "metadata": {},
   "outputs": [],
   "source": [
    "import pandas as pd\n",
    "import numpy as np\n",
    "import matplotlib.pyplot as plt\n",
    "\n",
    "\n",
    "import pickle"
   ]
  },
  {
   "cell_type": "code",
   "execution_count": 2,
   "metadata": {},
   "outputs": [],
   "source": [
    "pkl_obj_statistical = pickle.load(open(\"./best_pm25_reg_model_statistical.pkl\", \"rb\"))\n",
    "pkl_obj_ml = pickle.load(open(\"./best_pm25_reg_model_ml.pkl\", \"rb\"))\n",
    "\n",
    "pkl_obj  = pkl_obj_statistical if (pkl_obj_statistical['score']['rmse'] < pkl_obj_ml['score']['rmse']) else pkl_obj_ml\n",
    "pm25_predictions = pkl_obj['test_set_predictions']"
   ]
  },
  {
   "cell_type": "code",
   "execution_count": 3,
   "metadata": {},
   "outputs": [
    {
     "name": "stderr",
     "output_type": "stream",
     "text": [
      "/home/pritthijit/.mlenv/lib/python3.8/site-packages/sklearn/base.py:310: UserWarning: Trying to unpickle estimator LinearRegression from version 0.23.1 when using version 0.24.1. This might lead to breaking code or invalid results. Use at your own risk.\n",
      "  warnings.warn(\n",
      "/home/pritthijit/.mlenv/lib/python3.8/site-packages/sklearn/base.py:310: UserWarning: Trying to unpickle estimator PolynomialFeatures from version 0.23.1 when using version 0.24.1. This might lead to breaking code or invalid results. Use at your own risk.\n",
      "  warnings.warn(\n"
     ]
    }
   ],
   "source": [
    "pm25_to_aod_model_obj = pickle.load(open(\"../India/best_pm25_aod_reg_model.pkl\", \"rb\"))\n",
    "model_pkl = pm25_to_aod_model_obj\n",
    "regressor = model_pkl['regressor']\n",
    "scaler = model_pkl['scaler']\n",
    "\n",
    "def model_predict(X):    \n",
    "    if scaler:\n",
    "        try:\n",
    "            sc_X, sc_y = scaler\n",
    "            y_pred = sc_y.inverse_transform(regressor.predict(sc_X.transform(X)))\n",
    "        except Exception as e:\n",
    "            poly_reg = scaler\n",
    "            y_pred = regressor.predict(poly_reg.transform(X))\n",
    "    else:\n",
    "        y_pred = regressor.predict(X)\n",
    "    return y_pred"
   ]
  },
  {
   "cell_type": "code",
   "execution_count": 4,
   "metadata": {},
   "outputs": [],
   "source": [
    "aod_predictions = model_predict(pm25_predictions.reshape(-1,1)).reshape(-1)"
   ]
  },
  {
   "cell_type": "code",
   "execution_count": 5,
   "metadata": {},
   "outputs": [
    {
     "data": {
      "image/png": "[encoded data removed]",
      "text/plain": [
       "<Figure size 432x288 with 1 Axes>"
      ]
     },
     "metadata": {
      "needs_background": "light"
     },
     "output_type": "display_data"
    }
   ],
   "source": [
    "plt.figure(figsize=(6, 4))\n",
    "plt.scatter(pm25_predictions, aod_predictions, c='k')\n",
    "plt.title(f\"{pkl_obj['station_name']} - AOD vs PM2.5\")\n",
    "plt.xlabel(\"PM2.5\")\n",
    "plt.ylabel(\"AOD\")\n",
    "plt.grid(ls='--')"
   ]
  },
  {
   "cell_type": "code",
   "execution_count": 6,
   "metadata": {},
   "outputs": [],
   "source": [
    "pickle.dump(aod_predictions, open(\"./aod_predictions.pkl\", \"wb\"))"
   ]
  }
 ],
 "metadata": {
  "kernelspec": {
   "display_name": "Python 3",
   "language": "python",
   "name": "python3"
  },
  "language_info": {
   "codemirror_mode": {
    "name": "ipython",
    "version": 3
   },
   "file_extension": ".py",
   "mimetype": "text/x-python",
   "name": "python",
   "nbconvert_exporter": "python",
   "pygments_lexer": "ipython3",
   "version": "3.8.5"
  }
 },
 "nbformat": 4,
 "nbformat_minor": 4
}
