{
 "cells": [
  {
   "cell_type": "code",
   "execution_count": 1,
   "metadata": {},
   "outputs": [],
   "source": [
    "import pandas as pd\n",
    "import numpy as np\n",
    "import matplotlib.pyplot as plt\n",
    "\n",
    "import pickle\n",
    "\n",
    "import warnings\n",
    "warnings.filterwarnings('ignore')\n",
    "\n",
    "import math"
   ]
  },
  {
   "cell_type": "code",
   "execution_count": 2,
   "metadata": {},
   "outputs": [],
   "source": [
    "plt.rc('text', usetex=True)  \n",
    "plt.rc('font', family='sans-serif')"
   ]
  },
  {
   "cell_type": "code",
   "execution_count": 3,
   "metadata": {},
   "outputs": [],
   "source": [
    "results = pickle.load(open(\"./final_results.pkl\", \"rb\"))"
   ]
  },
  {
   "cell_type": "code",
   "execution_count": 4,
   "metadata": {},
   "outputs": [],
   "source": [
    "results['Deep Learning']['Bi-Directional LSTM'] = results['Deep Learning']['BiDirectional LSTM']\n",
    "del results['Deep Learning']['BiDirectional LSTM']\n",
    "\n",
    "results['Deep Learning']['LSTM Auto-Encoder'] = results['Deep Learning']['LSTM AutoEncoder']\n",
    "del results['Deep Learning']['LSTM AutoEncoder']"
   ]
  },
  {
   "cell_type": "code",
   "execution_count": 5,
   "metadata": {},
   "outputs": [],
   "source": [
    "from sklearn.metrics import mean_absolute_error, mean_squared_error, mean_squared_log_error, median_absolute_error, mean_absolute_percentage_error"
   ]
  },
  {
   "cell_type": "code",
   "execution_count": 6,
   "metadata": {},
   "outputs": [],
   "source": [
    "scores = {}"
   ]
  },
  {
   "cell_type": "code",
   "execution_count": 7,
   "metadata": {},
   "outputs": [],
   "source": [
    "approaches = list(results.keys())\n",
    "\n",
    "for approach in approaches:\n",
    "    scores[approach] = {}\n",
    "\n",
    "    methods = list(results[approach].keys())\n",
    "    \n",
    "    for method in methods:\n",
    "\n",
    "        y_hat = results[approach][method]['y_pred']\n",
    "        y_test = results[approach][method]['y_test']\n",
    "\n",
    "        rmse    = np.sqrt(mean_squared_error(y_test, y_hat))\n",
    "        mae     = mean_absolute_error(y_test, y_hat)\n",
    "        msle    = mean_squared_log_error(y_test, y_hat)\n",
    "        mdabse   = median_absolute_error(y_test, y_hat)\n",
    "        mape    = mean_absolute_percentage_error(y_test, y_hat)\n",
    "\n",
    "        scores[approach][method] = {\n",
    "            \"MAE\": mae,\n",
    "            \"RMSE\": rmse,\n",
    "            \"MSLE\": msle,\n",
    "            \"MdAbsE\": mdabse,\n",
    "#             \"MAPE\": mape\n",
    "        }"
   ]
  },
  {
   "cell_type": "code",
   "execution_count": 8,
   "metadata": {},
   "outputs": [],
   "source": [
    "reform = {(outerKey, innerKey): values for outerKey, innerDict in scores.items() for innerKey, values in innerDict.items()}\n",
    "\n",
    "result_df = pd.DataFrame(reform).transpose().round(3)"
   ]
  },
  {
   "cell_type": "code",
   "execution_count": 9,
   "metadata": {},
   "outputs": [
    {
     "data": {
      "text/html": [
       "<div>\n",
       "<style scoped>\n",
       "    .dataframe tbody tr th:only-of-type {\n",
       "        vertical-align: middle;\n",
       "    }\n",
       "\n",
       "    .dataframe tbody tr th {\n",
       "        vertical-align: top;\n",
       "    }\n",
       "\n",
       "    .dataframe thead th {\n",
       "        text-align: right;\n",
       "    }\n",
       "</style>\n",
       "<table border=\"1\" class=\"dataframe\">\n",
       "  <thead>\n",
       "    <tr style=\"text-align: right;\">\n",
       "      <th></th>\n",
       "      <th></th>\n",
       "      <th>MAE</th>\n",
       "      <th>RMSE</th>\n",
       "      <th>MSLE</th>\n",
       "      <th>MdAbsE</th>\n",
       "    </tr>\n",
       "  </thead>\n",
       "  <tbody>\n",
       "    <tr>\n",
       "      <th rowspan=\"5\" valign=\"top\">Machine Learning</th>\n",
       "      <th>Polynomial Regression</th>\n",
       "      <td>21.040</td>\n",
       "      <td>26.254</td>\n",
       "      <td>0.164</td>\n",
       "      <td>17.623</td>\n",
       "    </tr>\n",
       "    <tr>\n",
       "      <th>SVR Regression</th>\n",
       "      <td>21.092</td>\n",
       "      <td>26.029</td>\n",
       "      <td>0.161</td>\n",
       "      <td>17.823</td>\n",
       "    </tr>\n",
       "    <tr>\n",
       "      <th>Random Forest Regression</th>\n",
       "      <td>20.461</td>\n",
       "      <td>25.590</td>\n",
       "      <td>0.156</td>\n",
       "      <td>18.468</td>\n",
       "    </tr>\n",
       "    <tr>\n",
       "      <th>Linear Regression</th>\n",
       "      <td>21.187</td>\n",
       "      <td>26.198</td>\n",
       "      <td>0.163</td>\n",
       "      <td>18.277</td>\n",
       "    </tr>\n",
       "    <tr>\n",
       "      <th>Decision Tree Regression</th>\n",
       "      <td>21.468</td>\n",
       "      <td>26.506</td>\n",
       "      <td>0.167</td>\n",
       "      <td>18.993</td>\n",
       "    </tr>\n",
       "    <tr>\n",
       "      <th rowspan=\"3\" valign=\"top\">Deep Learning</th>\n",
       "      <th>Multi Layer Perceptron</th>\n",
       "      <td>20.977</td>\n",
       "      <td>25.955</td>\n",
       "      <td>0.160</td>\n",
       "      <td>19.018</td>\n",
       "    </tr>\n",
       "    <tr>\n",
       "      <th>Bi-Directional LSTM</th>\n",
       "      <td>20.563</td>\n",
       "      <td>25.574</td>\n",
       "      <td>0.158</td>\n",
       "      <td>18.006</td>\n",
       "    </tr>\n",
       "    <tr>\n",
       "      <th>LSTM Auto-Encoder</th>\n",
       "      <td>20.510</td>\n",
       "      <td>25.533</td>\n",
       "      <td>0.157</td>\n",
       "      <td>17.913</td>\n",
       "    </tr>\n",
       "    <tr>\n",
       "      <th rowspan=\"3\" valign=\"top\">Statistical</th>\n",
       "      <th>AR</th>\n",
       "      <td>20.642</td>\n",
       "      <td>25.677</td>\n",
       "      <td>0.158</td>\n",
       "      <td>18.032</td>\n",
       "    </tr>\n",
       "    <tr>\n",
       "      <th>Holt-Winters</th>\n",
       "      <td>20.943</td>\n",
       "      <td>26.021</td>\n",
       "      <td>0.160</td>\n",
       "      <td>19.316</td>\n",
       "    </tr>\n",
       "    <tr>\n",
       "      <th>ARIMA</th>\n",
       "      <td>21.249</td>\n",
       "      <td>26.452</td>\n",
       "      <td>0.164</td>\n",
       "      <td>19.516</td>\n",
       "    </tr>\n",
       "  </tbody>\n",
       "</table>\n",
       "</div>"
      ],
      "text/plain": [
       "                                              MAE    RMSE   MSLE  MdAbsE\n",
       "Machine Learning Polynomial Regression     21.040  26.254  0.164  17.623\n",
       "                 SVR Regression            21.092  26.029  0.161  17.823\n",
       "                 Random Forest Regression  20.461  25.590  0.156  18.468\n",
       "                 Linear Regression         21.187  26.198  0.163  18.277\n",
       "                 Decision Tree Regression  21.468  26.506  0.167  18.993\n",
       "Deep Learning    Multi Layer Perceptron    20.977  25.955  0.160  19.018\n",
       "                 Bi-Directional LSTM       20.563  25.574  0.158  18.006\n",
       "                 LSTM Auto-Encoder         20.510  25.533  0.157  17.913\n",
       "Statistical      AR                        20.642  25.677  0.158  18.032\n",
       "                 Holt-Winters              20.943  26.021  0.160  19.316\n",
       "                 ARIMA                     21.249  26.452  0.164  19.516"
      ]
     },
     "execution_count": 9,
     "metadata": {},
     "output_type": "execute_result"
    }
   ],
   "source": [
    "result_df"
   ]
  },
  {
   "cell_type": "code",
   "execution_count": 10,
   "metadata": {},
   "outputs": [
    {
     "name": "stdout",
     "output_type": "stream",
     "text": [
      "\\begin{tabular}{llrrrr}\n",
      "\\toprule\n",
      "            &       &     MAE &    RMSE &   MSLE &  MdAbsE \\\\\n",
      "\\midrule\n",
      "Machine Learning & Polynomial Regression &  21.040 &  26.254 &  0.164 &  17.623 \\\\\n",
      "            & SVR Regression &  21.092 &  26.029 &  0.161 &  17.823 \\\\\n",
      "            & Random Forest Regression &  20.461 &  25.590 &  0.156 &  18.468 \\\\\n",
      "            & Linear Regression &  21.187 &  26.198 &  0.163 &  18.277 \\\\\n",
      "            & Decision Tree Regression &  21.468 &  26.506 &  0.167 &  18.993 \\\\\n",
      "Deep Learning & Multi Layer Perceptron &  20.977 &  25.955 &  0.160 &  19.018 \\\\\n",
      "            & Bi-Directional LSTM &  20.563 &  25.574 &  0.158 &  18.006 \\\\\n",
      "            & LSTM Auto-Encoder &  20.510 &  25.533 &  0.157 &  17.913 \\\\\n",
      "Statistical & AR &  20.642 &  25.677 &  0.158 &  18.032 \\\\\n",
      "            & Holt-Winters &  20.943 &  26.021 &  0.160 &  19.316 \\\\\n",
      "            & ARIMA &  21.249 &  26.452 &  0.164 &  19.516 \\\\\n",
      "\\bottomrule\n",
      "\\end{tabular}\n",
      "\n"
     ]
    }
   ],
   "source": [
    "print(result_df.to_latex())"
   ]
  }
 ],
 "metadata": {
  "kernelspec": {
   "display_name": "Python 3",
   "language": "python",
   "name": "python3"
  },
  "language_info": {
   "codemirror_mode": {
    "name": "ipython",
    "version": 3
   },
   "file_extension": ".py",
   "mimetype": "text/x-python",
   "name": "python",
   "nbconvert_exporter": "python",
   "pygments_lexer": "ipython3",
   "version": "3.8.5"
  }
 },
 "nbformat": 4,
 "nbformat_minor": 4
}
